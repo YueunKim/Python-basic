{
 "cells": [
  {
   "cell_type": "markdown",
   "metadata": {},
   "source": [
    "# Chapter 5. 리스트 (List)"
   ]
  },
  {
   "cell_type": "code",
   "execution_count": null,
   "metadata": {},
   "outputs": [],
   "source": [
    "# 5-1. list\n",
    "fruits = ['apple','orange','strawberry','graph','melon','watermelon','kiwi','banana']\n",
    "list1 = [5,10.2,'pingpong',True,[4,5,6]]\n",
    "numbers = list(range(1,10,2))\n",
    "\n",
    "print(fruits)\n",
    "print(list1)\n",
    "print(numbers)\n",
    "\n",
    "print()\n",
    "print(fruits[0])\n",
    "print(fruits[2:])\n",
    "print(fruits[-4:-2])"
   ]
  },
  {
   "cell_type": "code",
   "execution_count": 2,
   "metadata": {},
   "outputs": [
    {
     "name": "stdout",
     "output_type": "stream",
     "text": [
      "['red', 'yellow', 'green', 'blue']\n",
      "['red', 'black', 'yellow', 'green', 'blue']\n",
      "['red', 'black', 'yellow', 'green', 'blue', 'purple', 'white']\n",
      "['red', 'black', 'yellow', 'green', 'blue', 'purple', 'white', 'purple', 'white']\n"
     ]
    }
   ],
   "source": [
    "# 5-2. Add element\n",
    "a = ['red','yellow','green']\n",
    "a.append('blue')       # 맨 뒤에 추가\n",
    "print(a)\n",
    "\n",
    "a.insert(1,'black')    # 1번째에 추가\n",
    "print(a)\n",
    "\n",
    "b = ['purple','white']\n",
    "a.extend(b)  \n",
    "print(a)\n",
    "\n",
    "c = a + b\n",
    "print(c)"
   ]
  },
  {
   "cell_type": "code",
   "execution_count": 3,
   "metadata": {},
   "outputs": [
    {
     "name": "stdout",
     "output_type": "stream",
     "text": [
      "2\n",
      "[10, 20, 40, 50]\n",
      "[10, 20, 40]\n",
      "[]\n"
     ]
    }
   ],
   "source": [
    "# 5-3. delete element\n",
    "a = [10, 20, 30, 40, 50]\n",
    "x = a.index(30)\n",
    "print(x)\n",
    "\n",
    "a.pop(x)       # del a[x]와 같음\n",
    "print(a)\n",
    "\n",
    "a.remove(50)\n",
    "print(a)\n",
    "\n",
    "a.clear()\n",
    "print(a)"
   ]
  },
  {
   "cell_type": "code",
   "execution_count": 4,
   "metadata": {},
   "outputs": [
    {
     "name": "stdout",
     "output_type": "stream",
     "text": [
      "3\n",
      "12\n"
     ]
    }
   ],
   "source": [
    "# 5-4. list element count\n",
    "list1 = ['a','bb','ccc','aaa','ddd','dd','aaa','bbb','cc','d','aaa','b']\n",
    "print(list1.count('aaa'))\n",
    "print(len(list1))"
   ]
  },
  {
   "cell_type": "code",
   "execution_count": null,
   "metadata": {},
   "outputs": [],
   "source": [
    "# 5-5. list.sort\n",
    "list2 = [-7,1,3,-6,2,-4,13]\n",
    "list2.sort()\n",
    "print(list2)\n",
    "\n",
    "list2.sort(reverse=True)           # reverse = True 는 내림차순 정렬\n",
    "print(list2)"
   ]
  },
  {
   "cell_type": "code",
   "execution_count": 2,
   "metadata": {},
   "outputs": [
    {
     "name": "stdout",
     "output_type": "stream",
     "text": [
      "apple\n",
      "banana\n",
      "orange\n"
     ]
    }
   ],
   "source": [
    "# 5-6. for in list\n",
    "fruits = ['apple','banana','orange']\n",
    "for fruit in fruits:\n",
    "    print(fruit)"
   ]
  },
  {
   "cell_type": "code",
   "execution_count": 3,
   "metadata": {},
   "outputs": [
    {
     "name": "stdout",
     "output_type": "stream",
     "text": [
      "총점 : 666 , 평균 : 83.25\n"
     ]
    }
   ],
   "source": [
    "# 5-7. sum, average\n",
    "scores = [88, 75, 90, 95, 77, 69, 80, 92]\n",
    "\n",
    "sum = 0\n",
    "for score in scores:\n",
    "    sum += score \n",
    "\n",
    "avg = sum/len(scores)\n",
    "print('총점 : %d , 평균 : %.2f'%(sum,avg))"
   ]
  },
  {
   "cell_type": "code",
   "execution_count": 1,
   "metadata": {},
   "outputs": [
    {
     "name": "stdout",
     "output_type": "stream",
     "text": [
      "[10, 20, 30]\n",
      "[40, 50, 60]\n",
      "20\n",
      "60\n",
      "2\n",
      "3\n"
     ]
    }
   ],
   "source": [
    "# 5-9. 2-D list\n",
    "numbers = [[10,20,30],[40,50,60]]\n",
    "\n",
    "print(numbers[0])\n",
    "print(numbers[1])\n",
    "print(numbers[0][1])\n",
    "print(numbers[1][2])\n",
    "print(len(numbers))\n",
    "print(len(numbers[1]))"
   ]
  },
  {
   "cell_type": "code",
   "execution_count": null,
   "metadata": {},
   "outputs": [],
   "source": [
    "# Practice\n",
    "scores = [[96,84,80],[96,86,76],[76,95,83],[89,90,83],\\\n",
    "    [98,67,98],[89,99,74],[77,88,99],[96,48,78]]\n",
    "\n",
    "i = 0\n",
    "while i < len(scores):\n",
    "    sum = 0\n",
    "    j = 0\n",
    "    while j < len(scores[i]):\n",
    "        sum = sum + scores[i][j]\n",
    "        j += 1\n",
    "        \n",
    "avg = sum/len(scores[i])\n",
    "print('%d번째 학생의 합계 : %d , 평균 : %.2f'%(i+1,sum,avg))\n",
    "i += 1"
   ]
  },
  {
   "cell_type": "code",
   "execution_count": 8,
   "metadata": {},
   "outputs": [
    {
     "name": "stdout",
     "output_type": "stream",
     "text": [
      "성적을 입력하세요 (종료시 -1 입력) : 98\n",
      "성적을 입력하세요 (종료시 -1 입력) : 54\n",
      "성적을 입력하세요 (종료시 -1 입력) : -1\n",
      "합계 : 152 , 평균 : 76.00\n"
     ]
    }
   ],
   "source": [
    "# Practice\n",
    "scores = []\n",
    "while True :\n",
    "    score = int(input('성적을 입력하세요 (종료시 -1 입력) : '))\n",
    "    \n",
    "    if score == -1 :\n",
    "        break\n",
    "    else : \n",
    "        scores.append(score)\n",
    "\n",
    "sum = 0\n",
    "for i in range(0,len(scores)):\n",
    "    sum += scores[i]\n",
    "    \n",
    "avg = sum/len(scores)\n",
    "print('합계 : %d , 평균 : %.2f'%(sum,avg))"
   ]
  },
  {
   "cell_type": "code",
   "execution_count": 6,
   "metadata": {},
   "outputs": [
    {
     "name": "stdout",
     "output_type": "stream",
     "text": [
      "[1, 4, 9, 16, 25]\n",
      "[1, 4, 9, 16, 25]\n"
     ]
    }
   ],
   "source": [
    "# list comprehension (1)\n",
    "a = []\n",
    "for i in range(1,6):\n",
    "    a.append(i*i)\n",
    "print(a)\n",
    "\n",
    "a = [i * i for i in range(1,6)]\n",
    "print(a)"
   ]
  },
  {
   "cell_type": "code",
   "execution_count": 2,
   "metadata": {},
   "outputs": [
    {
     "name": "stdout",
     "output_type": "stream",
     "text": [
      "[1, 9, 25, 49, 81]\n",
      "[1, 9, 25, 49, 81]\n"
     ]
    }
   ],
   "source": [
    "# list comprehension (2)\n",
    "b = []\n",
    "for i in range(1,10,2):\n",
    "    b.append(i*i)\n",
    "print(b)\n",
    "\n",
    "b = [i*i for i in range(1,10) if i % 2 == 1]\n",
    "print(b)"
   ]
  },
  {
   "cell_type": "code",
   "execution_count": 3,
   "metadata": {},
   "outputs": [
    {
     "name": "stdout",
     "output_type": "stream",
     "text": [
      "[2, 4, 6, 8, 10, 12, 14, 16, 18, 3, 6, 9, 12, 15, 18, 21, 24, 27, 4, 8, 12, 16, 20, 24, 28, 32, 36, 5, 10, 15, 20, 25, 30, 35, 40, 45, 6, 12, 18, 24, 30, 36, 42, 48, 54, 7, 14, 21, 28, 35, 42, 49, 56, 63, 8, 16, 24, 32, 40, 48, 56, 64, 72, 9, 18, 27, 36, 45, 54, 63, 72, 81]\n"
     ]
    }
   ],
   "source": [
    "gugu = [i * j for i in range(2,10)\n",
    "              for j in range(1,10)]\n",
    "\n",
    "print(gugu)"
   ]
  }
 ],
 "metadata": {
  "kernelspec": {
   "display_name": "Python 3",
   "language": "python",
   "name": "python3"
  },
  "language_info": {
   "codemirror_mode": {
    "name": "ipython",
    "version": 3
   },
   "file_extension": ".py",
   "mimetype": "text/x-python",
   "name": "python",
   "nbconvert_exporter": "python",
   "pygments_lexer": "ipython3",
   "version": "3.7.6"
  }
 },
 "nbformat": 4,
 "nbformat_minor": 4
}
