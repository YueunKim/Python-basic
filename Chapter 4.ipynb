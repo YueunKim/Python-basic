{
 "cells": [
  {
   "cell_type": "markdown",
   "metadata": {},
   "source": [
    "# Chapter 4. 반복문 (Loop)"
   ]
  },
  {
   "cell_type": "code",
   "execution_count": 3,
   "metadata": {},
   "outputs": [
    {
     "name": "stdout",
     "output_type": "stream",
     "text": [
      "안녕하세요! 0\n",
      "안녕하세요! 1\n",
      "안녕하세요! 2\n",
      "안녕하세요! 3\n",
      "안녕하세요! 4\n"
     ]
    }
   ],
   "source": [
    "# 4-1. for loop\n",
    "for x in range(5):\n",
    "    print('안녕하세요!',x)"
   ]
  },
  {
   "cell_type": "code",
   "execution_count": 6,
   "metadata": {},
   "outputs": [
    {
     "name": "stdout",
     "output_type": "stream",
     "text": [
      "안녕하세요? 0\n",
      "안녕하세요? 1\n",
      "안녕하세요? 2\n",
      "안녕하세요? 3\n",
      "안녕하세요? 4\n"
     ]
    }
   ],
   "source": [
    "# 4-2. while loop\n",
    "x = 0\n",
    "while  x < 5 :\n",
    "    print('안녕하세요?',x)\n",
    "    x += 1"
   ]
  },
  {
   "cell_type": "code",
   "execution_count": 8,
   "metadata": {},
   "outputs": [
    {
     "name": "stdout",
     "output_type": "stream",
     "text": [
      "i의 값 : 10, 합계 : 55\n"
     ]
    }
   ],
   "source": [
    "# 4-3. sum of 1~10 (for)\n",
    "sum = 0\n",
    "for i in range(1,11): #range(초기값, 끝나는값, 증가분) 초기값 생략시 0, 증가분 생략시 +1\n",
    "    sum += i\n",
    "print('i의 값 : %d, 합계 : %d'%(i,sum))"
   ]
  },
  {
   "cell_type": "code",
   "execution_count": 15,
   "metadata": {},
   "outputs": [
    {
     "name": "stdout",
     "output_type": "stream",
     "text": [
      "0123456789\n",
      "12345678910\n",
      "13579\n",
      "2018161412108642"
     ]
    }
   ],
   "source": [
    "# 4-4. using range\n",
    "for i in range(10):\n",
    "    print(i,end='')\n",
    "print()\n",
    "\n",
    "for i in range(1,11):\n",
    "    print(i,end='')\n",
    "print()\n",
    "\n",
    "for i in range(1,10,2):\n",
    "    print(i,end='')\n",
    "print()    \n",
    "\n",
    "for i in range(20,0,-2):\n",
    "    print(i,end='')"
   ]
  },
  {
   "cell_type": "code",
   "execution_count": 18,
   "metadata": {},
   "outputs": [
    {
     "name": "stdout",
     "output_type": "stream",
     "text": [
      "369121518212427303336394245485154576063666972757881848790939699\n",
      " --------------------------------------------------\n",
      "1~100에서 3의 배수의 합계 : 1683\n"
     ]
    }
   ],
   "source": [
    "# 4-5. Sum of multiples of 3\n",
    "sum = 0\n",
    "for i in range(1,101):\n",
    "    if i % 3 == 0:\n",
    "        print('%d'%i, end='')\n",
    "        sum += i\n",
    "        \n",
    "print('\\n','-'*50)\n",
    "print('1~100에서 3의 배수의 합계 : %d'%sum)"
   ]
  },
  {
   "cell_type": "code",
   "execution_count": 19,
   "metadata": {},
   "outputs": [
    {
     "name": "stdout",
     "output_type": "stream",
     "text": [
      "영어문장 : i love you\n",
      "i\n",
      " \n",
      "l\n",
      "o\n",
      "v\n",
      "e\n",
      " \n",
      "y\n",
      "o\n",
      "u\n"
     ]
    }
   ],
   "source": [
    "# 4-6. String vertical output\n",
    "word = input('영어문장 : ')\n",
    "\n",
    "for x in word:            #sequence에는 range, string, list, tuple이 다 가능!\n",
    "    print(x)"
   ]
  },
  {
   "cell_type": "code",
   "execution_count": 20,
   "metadata": {},
   "outputs": [
    {
     "name": "stdout",
     "output_type": "stream",
     "text": [
      "------------------------------\n",
      "   섭씨    화씨\n",
      "------------------------------\n",
      "     -20   -4.0\n",
      "     -15    5.0\n",
      "     -10   14.0\n",
      "      -5   23.0\n",
      "       0   32.0\n",
      "       5   41.0\n",
      "      10   50.0\n",
      "      15   59.0\n",
      "      20   68.0\n",
      "      25   77.0\n",
      "      30   86.0\n",
      "------------------------------\n"
     ]
    }
   ],
   "source": [
    "# 4-7. Change the temperature from Celsius to Fahrenheit\n",
    "print('-'*30)\n",
    "print('   섭씨    화씨')\n",
    "print('-'*30)\n",
    "\n",
    "for c in range(-20,31,5):\n",
    "    f = c * 9.0/5.0 + 32.0\n",
    "    print('%8d %6.1f'%(c,f))\n",
    "    \n",
    "print('-'*30)"
   ]
  },
  {
   "cell_type": "code",
   "execution_count": 23,
   "metadata": {},
   "outputs": [
    {
     "name": "stdout",
     "output_type": "stream",
     "text": [
      "시작 수를 입력하세요 : 100\n",
      "끝 수를 입력하세요 : 200\n",
      "--------------------------------------------------\n",
      "100에서 200까지 5의 배수가 아닌 수의 합계 : 80\n"
     ]
    }
   ],
   "source": [
    "# Practice\n",
    "n1 = int(input('시작 수를 입력하세요 : '))\n",
    "n2 = int(input('끝 수를 입력하세요 : '))\n",
    "\n",
    "sum = 0\n",
    "for i in range(n1, n2 + 1):\n",
    "    if i % 5 != 0:\n",
    "        sum += 1\n",
    "        \n",
    "print('-'*50)\n",
    "print('%d에서 %d까지 5의 배수가 아닌 수의 합계 : %d'%(n1,n2,sum))"
   ]
  },
  {
   "cell_type": "code",
   "execution_count": 25,
   "metadata": {},
   "outputs": [
    {
     "name": "stdout",
     "output_type": "stream",
     "text": [
      "하이픈(-)을 포함한 휴대폰 번호를 입력하세요 : 010-2340-6348\n",
      "01023406348"
     ]
    }
   ],
   "source": [
    "# Practice\n",
    "number = input('하이픈(-)을 포함한 휴대폰 번호를 입력하세요 : ')\n",
    "\n",
    "for x in number:\n",
    "    if x != '-':\n",
    "        print('%s'%x,end='')"
   ]
  },
  {
   "cell_type": "code",
   "execution_count": 28,
   "metadata": {},
   "outputs": [
    {
     "name": "stdout",
     "output_type": "stream",
     "text": [
      "하이픈을 뺀 11자리의 휴대폰 번호를 입력하세요 : 01023406348\n",
      "010-2340-6348\n"
     ]
    }
   ],
   "source": [
    "# Practice\n",
    "phone = input('하이픈을 뺀 11자리의 휴대폰 번호를 입력하세요 : ')\n",
    "\n",
    "number = '';\n",
    "for i in range(0,len(phone)):\n",
    "    if i == 2:\n",
    "        number = number + (phone[2]+'-')\n",
    "    elif i == 6:\n",
    "        number = number + (phone[6]+'-')\n",
    "    else:\n",
    "        number = number + phone[i]\n",
    "        \n",
    "print(number)"
   ]
  },
  {
   "cell_type": "code",
   "execution_count": 36,
   "metadata": {},
   "outputs": [
    {
     "name": "stdout",
     "output_type": "stream",
     "text": [
      "--------------------------------------------------\n",
      "     cm        inch        ft         yd\n",
      "--------------------------------------------------\n",
      "      10        3.9        0.3        0.1\n",
      "      20        7.9        0.7        0.2\n",
      "      30       11.8        1.0        0.3\n",
      "      40       15.7        1.3        0.4\n",
      "      50       19.7        1.6        0.5\n",
      "      60       23.6        2.0        0.7\n",
      "      70       27.6        2.3        0.8\n",
      "      80       31.5        2.6        0.9\n",
      "      90       35.4        3.0        1.0\n",
      "     100       39.4        3.3        1.1\n",
      "     110       43.3        3.6        1.2\n",
      "     120       47.2        3.9        1.3\n",
      "     130       51.2        4.3        1.4\n",
      "     140       55.1        4.6        1.5\n",
      "     150       59.1        4.9        1.6\n",
      "     160       63.0        5.2        1.7\n",
      "     170       66.9        5.6        1.9\n",
      "     180       70.9        5.9        2.0\n",
      "     190       74.8        6.2        2.1\n",
      "     200       78.7        6.6        2.2\n",
      "--------------------------------------------------\n"
     ]
    }
   ],
   "source": [
    "# Practice\n",
    "print('-'*50)\n",
    "print('     cm        inch        ft         yd')\n",
    "print('-'*50)\n",
    "\n",
    "for cm in range(10,201,10):\n",
    "    inch = cm * 0.393701\n",
    "    ft = cm * 0.032808\n",
    "    yd = cm * 0.010936\n",
    "    print('%8d %10.1f %10.1f %10.1f'%(cm, inch, ft, yd))\n",
    "    \n",
    "print('-'*50)"
   ]
  },
  {
   "cell_type": "code",
   "execution_count": 37,
   "metadata": {},
   "outputs": [
    {
     "name": "stdout",
     "output_type": "stream",
     "text": [
      "2 X 1 = 2\n",
      "2 X 2 = 4\n",
      "2 X 3 = 6\n",
      "2 X 4 = 8\n",
      "2 X 5 = 10\n",
      "2 X 6 = 12\n",
      "2 X 7 = 14\n",
      "2 X 8 = 16\n",
      "2 X 9 = 18\n"
     ]
    }
   ],
   "source": [
    "# 4-8. Multiplication table 2\n",
    "a = 2\n",
    "\n",
    "for b in range(1,10):\n",
    "    c = a * b\n",
    "    print('%d X %d = %d'%(a,b,c))"
   ]
  },
  {
   "cell_type": "code",
   "execution_count": 41,
   "metadata": {},
   "outputs": [
    {
     "name": "stdout",
     "output_type": "stream",
     "text": [
      "2 X 1 = 2\n",
      "2 X 2 = 4\n",
      "2 X 3 = 6\n",
      "2 X 4 = 8\n",
      "2 X 5 = 10\n",
      "2 X 6 = 12\n",
      "2 X 7 = 14\n",
      "2 X 8 = 16\n",
      "2 X 9 = 18\n",
      "--------------------------------------------------\n",
      "3 X 1 = 3\n",
      "3 X 2 = 6\n",
      "3 X 3 = 9\n",
      "3 X 4 = 12\n",
      "3 X 5 = 15\n",
      "3 X 6 = 18\n",
      "3 X 7 = 21\n",
      "3 X 8 = 24\n",
      "3 X 9 = 27\n",
      "--------------------------------------------------\n",
      "4 X 1 = 4\n",
      "4 X 2 = 8\n",
      "4 X 3 = 12\n",
      "4 X 4 = 16\n",
      "4 X 5 = 20\n",
      "4 X 6 = 24\n",
      "4 X 7 = 28\n",
      "4 X 8 = 32\n",
      "4 X 9 = 36\n",
      "--------------------------------------------------\n",
      "5 X 1 = 5\n",
      "5 X 2 = 10\n",
      "5 X 3 = 15\n",
      "5 X 4 = 20\n",
      "5 X 5 = 25\n",
      "5 X 6 = 30\n",
      "5 X 7 = 35\n",
      "5 X 8 = 40\n",
      "5 X 9 = 45\n",
      "--------------------------------------------------\n",
      "6 X 1 = 6\n",
      "6 X 2 = 12\n",
      "6 X 3 = 18\n",
      "6 X 4 = 24\n",
      "6 X 5 = 30\n",
      "6 X 6 = 36\n",
      "6 X 7 = 42\n",
      "6 X 8 = 48\n",
      "6 X 9 = 54\n",
      "--------------------------------------------------\n",
      "7 X 1 = 7\n",
      "7 X 2 = 14\n",
      "7 X 3 = 21\n",
      "7 X 4 = 28\n",
      "7 X 5 = 35\n",
      "7 X 6 = 42\n",
      "7 X 7 = 49\n",
      "7 X 8 = 56\n",
      "7 X 9 = 63\n",
      "--------------------------------------------------\n",
      "8 X 1 = 8\n",
      "8 X 2 = 16\n",
      "8 X 3 = 24\n",
      "8 X 4 = 32\n",
      "8 X 5 = 40\n",
      "8 X 6 = 48\n",
      "8 X 7 = 56\n",
      "8 X 8 = 64\n",
      "8 X 9 = 72\n",
      "--------------------------------------------------\n",
      "9 X 1 = 9\n",
      "9 X 2 = 18\n",
      "9 X 3 = 27\n",
      "9 X 4 = 36\n",
      "9 X 5 = 45\n",
      "9 X 6 = 54\n",
      "9 X 7 = 63\n",
      "9 X 8 = 72\n",
      "9 X 9 = 81\n",
      "--------------------------------------------------\n"
     ]
    }
   ],
   "source": [
    "# 4-9. Multiplication table\n",
    "\n",
    "for i in range(2,10):\n",
    "    for k in range(1,10):\n",
    "        c = i * k\n",
    "        print('%d X %d = %d'%(i,k,c))\n",
    "    print('-'*50)"
   ]
  },
  {
   "cell_type": "code",
   "execution_count": 45,
   "metadata": {},
   "outputs": [
    {
     "name": "stdout",
     "output_type": "stream",
     "text": [
      "*\n",
      "**\n",
      "***\n",
      "****\n",
      "*****\n",
      "******\n",
      "*******\n",
      "********\n",
      "*********\n",
      "**********\n",
      "*\n",
      "**\n",
      "***\n",
      "****\n",
      "*****\n",
      "******\n",
      "*******\n",
      "********\n",
      "*********\n",
      "**********\n"
     ]
    }
   ],
   "source": [
    "# Practice\n",
    "for i in range(1,11):\n",
    "    print('*' * i)\n",
    "\n",
    "for i in range(1,11):\n",
    "    for j in range(1,i+1):\n",
    "        print('*',end='')\n",
    "    print()"
   ]
  },
  {
   "cell_type": "code",
   "execution_count": 49,
   "metadata": {},
   "outputs": [
    {
     "name": "stdout",
     "output_type": "stream",
     "text": [
      "         *\n",
      "        **\n",
      "       ***\n",
      "      ****\n",
      "     *****\n",
      "    ******\n",
      "   *******\n",
      "  ********\n",
      " *********\n",
      "**********\n"
     ]
    }
   ],
   "source": [
    "# Practice\n",
    "for i in range(1,11):\n",
    "    for j in range(1,10-i+1):\n",
    "        print(' ',end='')\n",
    "    for k in range(1,i+1):\n",
    "        print('*',end='')\n",
    "    print()"
   ]
  },
  {
   "cell_type": "code",
   "execution_count": null,
   "metadata": {},
   "outputs": [],
   "source": [
    "# Practice diamond"
   ]
  },
  {
   "cell_type": "code",
   "execution_count": 50,
   "metadata": {},
   "outputs": [
    {
     "name": "stdout",
     "output_type": "stream",
     "text": [
      "i의값 : 1 => 합계 : 1\n",
      "i의값 : 2 => 합계 : 3\n",
      "i의값 : 3 => 합계 : 6\n",
      "i의값 : 4 => 합계 : 10\n",
      "i의값 : 5 => 합계 : 15\n",
      "i의값 : 6 => 합계 : 21\n",
      "i의값 : 7 => 합계 : 28\n",
      "i의값 : 8 => 합계 : 36\n",
      "i의값 : 9 => 합계 : 45\n",
      "i의값 : 10 => 합계 : 55\n"
     ]
    }
   ],
   "source": [
    "# 4-10. sum of 1~10 (while)\n",
    "sum = 0 \n",
    "i = 1\n",
    "\n",
    "while i <= 10:\n",
    "    sum += i\n",
    "    print('i의값 : %d => 합계 : %d'%(i,sum))\n",
    "    i += 1"
   ]
  },
  {
   "cell_type": "code",
   "execution_count": 55,
   "metadata": {},
   "outputs": [
    {
     "name": "stdout",
     "output_type": "stream",
     "text": [
      "989 46\n"
     ]
    }
   ],
   "source": [
    "# Practice - 합이 1000에 가장 가까운 경우는 1에서부터 얼마까지 더한 경우인가?\n",
    "sum = 0\n",
    "count = 1\n",
    "while sum < 1000:   \n",
    "    if sum > 1000 :\n",
    "        break\n",
    "    sum += count\n",
    "    count += 1\n",
    "    \n",
    "print(sum-count, count)"
   ]
  },
  {
   "cell_type": "code",
   "execution_count": 56,
   "metadata": {},
   "outputs": [
    {
     "name": "stdout",
     "output_type": "stream",
     "text": [
      "13579"
     ]
    }
   ],
   "source": [
    "# Practice - Continue\n",
    "for i in range(10):\n",
    "    if i % 2 == 0:\n",
    "        continue\n",
    "    print(i,end='')"
   ]
  },
  {
   "cell_type": "code",
   "execution_count": 59,
   "metadata": {},
   "outputs": [
    {
     "name": "stdout",
     "output_type": "stream",
     "text": [
      "i = 1 : 0 \n",
      "i = 2 : 0 1 \n",
      "i = 3 : 0 1 2 \n",
      "i = 4 : 0 1 2 3 \n",
      "i = 5 : 0 1 2 3 4 \n"
     ]
    }
   ],
   "source": [
    "# Practice - Break in overlap\n",
    "for i in range(1,6):\n",
    "    print('i =', i, ':', end=' ')\n",
    "    for k in range(5):\n",
    "        if k == i:\n",
    "            break;\n",
    "        print(k,end=' ')\n",
    "    print()"
   ]
  }
 ],
 "metadata": {
  "kernelspec": {
   "display_name": "Python 3",
   "language": "python",
   "name": "python3"
  },
  "language_info": {
   "codemirror_mode": {
    "name": "ipython",
    "version": 3
   },
   "file_extension": ".py",
   "mimetype": "text/x-python",
   "name": "python",
   "nbconvert_exporter": "python",
   "pygments_lexer": "ipython3",
   "version": "3.7.6"
  }
 },
 "nbformat": 4,
 "nbformat_minor": 4
}
