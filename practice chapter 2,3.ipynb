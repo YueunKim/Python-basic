{
 "cells": [
  {
   "cell_type": "markdown",
   "metadata": {},
   "source": [
    "# Chater 2. Practice"
   ]
  },
  {
   "cell_type": "code",
   "execution_count": 35,
   "metadata": {},
   "outputs": [],
   "source": [
    "# 1.\n",
    "\n",
    "숫자 : 숫자형태로 이루어진 데이터형으로  \n",
    "       정수로 구성된 정수형(integer)와 소수점이 있는 실수형(float)숫자가 있다.\n",
    "문자열 : 하나 또는 다수의 문자로 구성된 데이터형으로\n",
    "         숫자와는 달리 해당 문자열의 앞 뒤에 단 따옴표나 쌍 따옴표를 붙여야 한다."
   ]
  },
  {
   "cell_type": "code",
   "execution_count": 2,
   "metadata": {},
   "outputs": [],
   "source": [
    "# 2. \n",
    "\n",
    "실행결과 : -72"
   ]
  },
  {
   "cell_type": "code",
   "execution_count": 13,
   "metadata": {},
   "outputs": [
    {
     "name": "stdout",
     "output_type": "stream",
     "text": [
      "반지름을 입력하세요 : 10\n",
      "반지름 : 10\n",
      "원의 둘레 : 62.80 cm\n",
      "원의 면적 : 314.00 cm2\n"
     ]
    }
   ],
   "source": [
    "# 3. 원의 둘레와 면적을 구하는 프로그램을 작성하시오.\n",
    "\n",
    "r = int(input('반지름을 입력하세요 : '))\n",
    "l = 2 * 3.14 * r\n",
    "s = 3.14 * r * r\n",
    "\n",
    "print('반지름 : %d'%r)\n",
    "print('원의 둘레 : %.2f cm'%l)\n",
    "print('원의 면적 : %.2f cm2'%s)"
   ]
  },
  {
   "cell_type": "code",
   "execution_count": 16,
   "metadata": {},
   "outputs": [
    {
     "name": "stdout",
     "output_type": "stream",
     "text": [
      "책 값을 입력하세요 : 15000\n",
      "할인율을 입력하세요(%) : 15\n",
      "배송료를 입력하세요 : 3000\n",
      "결제 금액 : 15750 원\n"
     ]
    }
   ],
   "source": [
    "# 4. 온라인 서점에서 결제할 금액을 계산하는 프로그램을 작성하시오.\n",
    "\n",
    "book_price = int(input('책 값을 입력하세요 : '))\n",
    "discount_rate = int(input('할인율을 입력하세요(%) : '))\n",
    "delivery_fee = int(input('배송료를 입력하세요 : '))\n",
    "pay = book_price - (book_price * discount_rate / 100) + delivery_fee\n",
    "\n",
    "print('결제 금액 : %d 원'%pay)"
   ]
  },
  {
   "cell_type": "code",
   "execution_count": 19,
   "metadata": {},
   "outputs": [
    {
     "name": "stdout",
     "output_type": "stream",
     "text": [
      "이름을 입력하세요 : 안지영\n",
      "현재년을 입력하세요 : 2020\n",
      "탄생년을 입력하세요 : 1997\n",
      "안지영님의 나이는 24 세 입니다!\n"
     ]
    }
   ],
   "source": [
    "# 5. 이름, 현재년, 출생년을 입력받아 나이를 계산하는 프로그램을 작성하시오.\n",
    "\n",
    "name = input('이름을 입력하세요 : ')\n",
    "now_year = int(input('현재년을 입력하세요 : '))\n",
    "birth_year = int(input('탄생년을 입력하세요 : '))\n",
    "age = now_year - birth_year + 1\n",
    "\n",
    "print('안지영님의 나이는 %d 세 입니다!'%age)"
   ]
  },
  {
   "cell_type": "code",
   "execution_count": 21,
   "metadata": {},
   "outputs": [
    {
     "name": "stdout",
     "output_type": "stream",
     "text": [
      "연을 입력하세요 : 2020\n",
      "월을 입력하세요 : 1\n",
      "일을 입력하세요 : 5\n",
      "2020-01-05\n"
     ]
    }
   ],
   "source": [
    "# 6. 연, 월, 일을 입력받아 ####-##-##의 형태로 출력하는 프로그램을 작성하시오. \n",
    "\n",
    "year = int(input('연을 입력하세요 : '))\n",
    "month = int(input('월을 입력하세요 : '))\n",
    "day = int(input('일을 입력하세요 : '))\n",
    "\n",
    "print('%d-%02d-%02d'%(year,month,day))\n"
   ]
  },
  {
   "cell_type": "markdown",
   "metadata": {},
   "source": [
    "# Chapter 3. practice"
   ]
  },
  {
   "cell_type": "code",
   "execution_count": 22,
   "metadata": {},
   "outputs": [],
   "source": [
    "# 1. 변수 a,b,c 값에 따라 연산의 결과가 참이면 True, 거짓이면 False를 적으시오.\n",
    "\n",
    "False  False  False\n",
    "True   False  False\n",
    "True   True   True"
   ]
  },
  {
   "cell_type": "code",
   "execution_count": null,
   "metadata": {},
   "outputs": [],
   "source": [
    "# 2. 변수 a,b,c 값에 따라 연산의 결과가 참이면 True, 거짓이면 False를 적으시오.\n",
    "\n",
    "False  True\n",
    "True   False\n",
    "False  True"
   ]
  },
  {
   "cell_type": "code",
   "execution_count": null,
   "metadata": {},
   "outputs": [],
   "source": [
    "# 3.\n",
    "실행 결과 : 4"
   ]
  },
  {
   "cell_type": "code",
   "execution_count": 45,
   "metadata": {},
   "outputs": [
    {
     "name": "stdout",
     "output_type": "stream",
     "text": [
      "단위를 입력하세요(1:섭씨,2화씨) : 1\n",
      "온도를 입력하세요 : 80\n",
      "물의 섭씨 온도 : 26.67, 상태 : 액체\n"
     ]
    }
   ],
   "source": [
    "# 4. 물의 섭씨 또는 화씨 온도를 입력받아 섭씨 온도와 물의 상태를 판별하는 프로그램을 작성하시오.\n",
    "\n",
    "unit = int(input('단위를 입력하세요(1:섭씨,2화씨) : '))\n",
    "tem = int(input('온도를 입력하세요 : '))\n",
    "state = '액체'\n",
    "\n",
    "if unit == 2:\n",
    "    cel = (tem - 32) * 5 / 9\n",
    "\n",
    "if tem >= 100:\n",
    "    state = '기체'\n",
    "elif tem <= 0:\n",
    "    state = '고체'\n",
    "else:\n",
    "    state = '액체'\n",
    "    \n",
    "print('물의 섭씨 온도 : %.2f, 상태 : %s'%(cel,state))    "
   ]
  },
  {
   "cell_type": "code",
   "execution_count": 29,
   "metadata": {},
   "outputs": [
    {
     "name": "stdout",
     "output_type": "stream",
     "text": [
      "아이디를 입력하세요 : rubato\n",
      "회원레벨을 입력해 주세요 : 3\n",
      "일부 콘텐츠 이용 가능\n"
     ]
    }
   ],
   "source": [
    "# 5. \n",
    "\n",
    "id = input('아이디를 입력하세요 : ')\n",
    "level = int(input('회원레벨을 입력해 주세요 : '))\n",
    "\n",
    "if id == 'admin':\n",
    "    print('모든 콘텐츠 이용 가능')\n",
    "elif level >= 2 and level <= 7:\n",
    "    print('일부 콘텐츠 이용 가능')\n",
    "else:\n",
    "    print('콘텐츠 이용 불가')"
   ]
  },
  {
   "cell_type": "code",
   "execution_count": 43,
   "metadata": {},
   "outputs": [
    {
     "name": "stdout",
     "output_type": "stream",
     "text": [
      "나이를 입력하시오 : 6\n",
      "입장료는 1000원입니다.\n"
     ]
    }
   ],
   "source": [
    "# 6. 나이를 입력받아 입장료를 계산하는 프로그램을 작성하시오.\n",
    "\n",
    "age = int(input('나이를 입력하시오 : '))\n",
    "\n",
    "if age >= 65:\n",
    "    print('입장료는 0원입니다.')\n",
    "elif age <= 10:\n",
    "    print('입장료는 1000원입니다.')\n",
    "else :\n",
    "    print('입장료는 2000원입니다.')"
   ]
  },
  {
   "cell_type": "code",
   "execution_count": 41,
   "metadata": {},
   "outputs": [
    {
     "name": "stdout",
     "output_type": "stream",
     "text": [
      "영어시험 점수를 입력하세요 : 85\n",
      "수학시험 점수를 입력하세요 : 75\n",
      "재시험 기회제공\n"
     ]
    }
   ],
   "source": [
    "# 7 . \n",
    "\n",
    "eng = int(input('영어시험 점수를 입력하세요 : '))\n",
    "math = int(input('수학시험 점수를 입력하세요 : '))\n",
    "\n",
    "if eng >= 80 and math >= 80:\n",
    "    print('합격')\n",
    "elif eng >= 80 or math >= 80:\n",
    "    print('재시험 기회제공')\n",
    "else:\n",
    "    print('불합격')"
   ]
  }
 ],
 "metadata": {
  "kernelspec": {
   "display_name": "Python 3",
   "language": "python",
   "name": "python3"
  },
  "language_info": {
   "codemirror_mode": {
    "name": "ipython",
    "version": 3
   },
   "file_extension": ".py",
   "mimetype": "text/x-python",
   "name": "python",
   "nbconvert_exporter": "python",
   "pygments_lexer": "ipython3",
   "version": "3.7.6"
  }
 },
 "nbformat": 4,
 "nbformat_minor": 4
}
