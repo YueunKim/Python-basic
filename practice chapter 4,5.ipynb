{
 "cells": [
  {
   "cell_type": "markdown",
   "metadata": {},
   "source": [
    "# Chapter 4. practice"
   ]
  },
  {
   "cell_type": "code",
   "execution_count": 3,
   "metadata": {},
   "outputs": [
    {
     "name": "stdout",
     "output_type": "stream",
     "text": [
      " *  *  *  *  *  *  *  *  *  * \n",
      " *  *  *  *  *  *  *  *  *  * \n",
      " *  *  *  *  *  *  *  *  *  * \n",
      " *  *  *  *  *  *  *  *  *  * \n",
      " *  *  *  *  *  *  *  *  *  * \n"
     ]
    }
   ],
   "source": [
    "# 1 \n",
    "\n",
    "for i in range(1,6):\n",
    "    for k in range(1,11):\n",
    "        print(' * ',end='')\n",
    "    print()"
   ]
  },
  {
   "cell_type": "code",
   "execution_count": 19,
   "metadata": {},
   "outputs": [
    {
     "name": "stdout",
     "output_type": "stream",
     "text": [
      " *  *  *  *  *  *  *  *  *  * \n",
      " *  *  *  *  *  *  *  *  *  * \n",
      " *  *  *  *  *  *  *  *  *  * \n",
      " *  *  *  *  *  *  *  *  *  * \n",
      " *  *  *  *  *  *  *  *  *  * \n"
     ]
    }
   ],
   "source": [
    "# 2\n",
    "\n",
    "i = 0\n",
    "while i <= 4:\n",
    "    print('%2s'%' * '*10)\n",
    "    i += 1\n",
    "    "
   ]
  },
  {
   "cell_type": "code",
   "execution_count": 32,
   "metadata": {
    "scrolled": true
   },
   "outputs": [
    {
     "name": "stdout",
     "output_type": "stream",
     "text": [
      "6 6 6 6 6 6 \n",
      "5 5 5 5 5 \n",
      "4 4 4 4 \n",
      "3 3 3 \n",
      "2 2 \n",
      "1 \n"
     ]
    }
   ],
   "source": [
    "# 3\n",
    "\n",
    "for i in range(6,0,-1):\n",
    "    for k in range(7):\n",
    "        if k == i:\n",
    "            break;\n",
    "        print(str(i) ,end=' ')\n",
    "    print()"
   ]
  },
  {
   "cell_type": "code",
   "execution_count": 23,
   "metadata": {},
   "outputs": [
    {
     "name": "stdout",
     "output_type": "stream",
     "text": [
      "0 \n",
      "0 1 \n",
      "0 1 2 \n",
      "0 1 2 3 \n",
      "0 1 2 3 4 \n",
      "0 1 2 3 4 5 \n"
     ]
    }
   ],
   "source": [
    "# 4\n",
    "\n",
    "for i in range(1,7):\n",
    "    for k in range(6):\n",
    "        if k == i:\n",
    "            break;\n",
    "        print(k,end=' ')\n",
    "    print()"
   ]
  },
  {
   "cell_type": "code",
   "execution_count": 41,
   "metadata": {},
   "outputs": [
    {
     "name": "stdout",
     "output_type": "stream",
     "text": [
      "********\n",
      "*      *\n",
      "*      *\n",
      "*      *\n",
      "*      *\n",
      "*      *\n",
      "*      *\n",
      "********\n"
     ]
    }
   ],
   "source": [
    "# 5\n",
    "\n",
    "for i in range(1,9):\n",
    "    if i == 1 or i == 8:\n",
    "        print('*'*8)\n",
    "    else:\n",
    "        print('*',' '*4,'*')"
   ]
  },
  {
   "cell_type": "code",
   "execution_count": 93,
   "metadata": {},
   "outputs": [
    {
     "name": "stdout",
     "output_type": "stream",
     "text": [
      "1 + 3 + 5 + 7 + 9 + 11 + 13 + 15 + 17 + 19 + 21 + 23 + 25 + 27 + 29 + 31 + 33 + 35 + 37 + 39 + 41 + 43 + 45 + 47 + 49 + 51 + 53 + 55 + 57 + 59 + 61 + 63 + 65 + 67 + 69 + 71 + 73 + 75 + 77 + 79 + 81 + 83 + 85 + 87 + 89 + 91 + 93 + 95 + 97 + 99 = 2500\n"
     ]
    }
   ],
   "source": [
    "# 6\n",
    "\n",
    "i = 0\n",
    "sum = 0\n",
    "for i in range(1, 100):\n",
    "    if i % 2 == 1 and i < 99: \n",
    "        sum += i\n",
    "        print(i,'+ ',end='')\n",
    "    elif i == 99:  \n",
    "        print('99','=',sum+99)"
   ]
  },
  {
   "cell_type": "code",
   "execution_count": 87,
   "metadata": {},
   "outputs": [
    {
     "name": "stdout",
     "output_type": "stream",
     "text": [
      "N의 값을 입력하세요 : 12\n",
      "N의 값 : 12\n",
      "합계 : 744010475682\n"
     ]
    }
   ],
   "source": [
    "# 7\n",
    "\n",
    "N = int(input('N의 값을 입력하세요 : '))\n",
    "sum = 0\n",
    "for i in range(2,N+1,2):\n",
    "    k = i**(i-1)\n",
    "    sum += k \n",
    "print('N의 값 : %d'%N)\n",
    "print('합계 : %d'%sum)"
   ]
  },
  {
   "cell_type": "code",
   "execution_count": 127,
   "metadata": {},
   "outputs": [
    {
     "name": "stdout",
     "output_type": "stream",
     "text": [
      "N값을 입력해주세요 : 200\n",
      "2 3 5 7 11 13 17 19 23 29 31 37 41 43 47 53 59 61 67 71 73 79 83 89 97 101 103 107 109 113 127 131 137 139 149 151 157 163 167 173 179 181 191 193 197 199 "
     ]
    }
   ],
   "source": [
    "# 8\n",
    "\n",
    "N = int(input('N값을 입력해주세요 : '))\n",
    "for i in range(2,N):\n",
    "    a = True\n",
    "    for j in range(2,i):\n",
    "        if i % j == 0:\n",
    "            a = False\n",
    "            break\n",
    "    if a:\n",
    "        print(i,end=' ')"
   ]
  },
  {
   "cell_type": "code",
   "execution_count": 33,
   "metadata": {},
   "outputs": [
    {
     "name": "stdout",
     "output_type": "stream",
     "text": [
      "--------------------------------------------------\n",
      "     달러($) 원화(원) 유로(€)\n",
      "--------------------------------------------------\n",
      "      10    10800      8.1\n",
      "      20    21600     16.2\n",
      "      30    32400     24.3\n",
      "      40    43200     32.4\n",
      "      50    54000     40.5\n",
      "      60    64800     48.6\n",
      "      70    75600     56.7\n",
      "      80    86400     64.8\n",
      "      90    97200     72.9\n",
      "     100   108000     81.0\n",
      "--------------------------------------------------\n"
     ]
    }
   ],
   "source": [
    "# 9\n",
    "\n",
    "print('-'*50)\n",
    "print('     달러($) 원화(원) 유로(€)')\n",
    "print('-'*50)\n",
    "\n",
    "d = 10\n",
    "while d <= 100:\n",
    "    w = d * 1080\n",
    "    y = d * 0.81\n",
    "    print('%8d %8d %8.1f'%(d,w,y)) \n",
    "    \n",
    "    d += 10\n",
    "print('-'*50)"
   ]
  },
  {
   "cell_type": "code",
   "execution_count": 40,
   "metadata": {},
   "outputs": [
    {
     "name": "stdout",
     "output_type": "stream",
     "text": [
      "--------------------------------------------------\n",
      "     cm        mm        m         inch\n",
      "--------------------------------------------------\n",
      "       1       10      0.01        0.39\n",
      "       3       30      0.03        1.18\n",
      "       5       50      0.05        1.97\n",
      "       7       70      0.07        2.76\n",
      "       9       90      0.09        3.54\n",
      "      11      110      0.11        4.33\n",
      "      13      130      0.13        5.12\n",
      "      15      150      0.15        5.91\n",
      "      17      170      0.17        6.69\n",
      "      19      190      0.19        7.48\n",
      "      21      210      0.21        8.27\n",
      "      23      230      0.23        9.06\n",
      "      25      250      0.25        9.84\n",
      "      27      270      0.27        10.63\n",
      "      29      290      0.29        11.42\n",
      "      31      310      0.31        12.20\n",
      "      33      330      0.33        12.99\n",
      "      35      350      0.35        13.78\n",
      "      37      370      0.37        14.57\n",
      "      39      390      0.39        15.35\n",
      "      41      410      0.41        16.14\n",
      "      43      430      0.43        16.93\n",
      "      45      450      0.45        17.72\n",
      "      47      470      0.47        18.50\n",
      "      49      490      0.49        19.29\n",
      "      51      510      0.51        20.08\n",
      "      53      530      0.53        20.87\n",
      "      55      550      0.55        21.65\n",
      "      57      570      0.57        22.44\n",
      "      59      590      0.59        23.23\n",
      "      61      610      0.61        24.02\n",
      "      63      630      0.63        24.80\n",
      "      65      650      0.65        25.59\n",
      "      67      670      0.67        26.38\n",
      "      69      690      0.69        27.17\n",
      "      71      710      0.71        27.95\n",
      "      73      730      0.73        28.74\n",
      "      75      750      0.75        29.53\n",
      "      77      770      0.77        30.31\n",
      "      79      790      0.79        31.10\n",
      "      81      810      0.81        31.89\n",
      "      83      830      0.83        32.68\n",
      "      85      850      0.85        33.46\n",
      "      87      870      0.87        34.25\n",
      "      89      890      0.89        35.04\n",
      "      91      910      0.91        35.83\n",
      "      93      930      0.93        36.61\n",
      "      95      950      0.95        37.40\n",
      "      97      970      0.97        38.19\n",
      "      99      990      0.99        38.98\n",
      "--------------------------------------------------\n"
     ]
    }
   ],
   "source": [
    "# 10\n",
    "\n",
    "print('-'*50)\n",
    "print('     cm        mm        m         inch')\n",
    "print('-'*50)\n",
    "\n",
    "cm = 1\n",
    "while cm <= 99:\n",
    "    mm = cm * 10\n",
    "    m = cm * 0.01\n",
    "    inch = cm * 0.3937\n",
    "    print('%8d %8d      %.2f        %.2f'%(cm,mm,m,inch)) \n",
    "    \n",
    "    cm += 2\n",
    "print('-'*50)"
   ]
  },
  {
   "cell_type": "markdown",
   "metadata": {},
   "source": [
    "# Chapter 5. practice"
   ]
  },
  {
   "cell_type": "code",
   "execution_count": 42,
   "metadata": {},
   "outputs": [
    {
     "name": "stdout",
     "output_type": "stream",
     "text": [
      "10\n"
     ]
    }
   ],
   "source": [
    "# 1\n",
    "\n",
    "data = [-12, 3, -9, 5, 8, -2, 0, -8, 3, 10]\n",
    "\n",
    "maxValue = data[0]\n",
    "for i in range(1, len(data)):\n",
    "    if maxValue < data[i]:\n",
    "        maxValue = data[i]\n",
    "print(maxValue)"
   ]
  },
  {
   "cell_type": "code",
   "execution_count": 13,
   "metadata": {},
   "outputs": [
    {
     "name": "stdout",
     "output_type": "stream",
     "text": [
      "합계 : 8, 평균 : 1.60\n"
     ]
    }
   ],
   "source": [
    "#2\n",
    "\n",
    "data = [-12, 3, -9, 5, 8, -2, 0, -8, 3, 10]\n",
    "\n",
    "i = 0\n",
    "even = []\n",
    "while i < len(data):\n",
    "    if i % 2 == 1:\n",
    "        even.append(data[i])   \n",
    "        sum1 = sum(even)\n",
    "        avg = sum(even)/len(even)\n",
    "    i += 1\n",
    "    \n",
    "print('합계 : %d, 평균 : %.2f' %(sum1,avg))"
   ]
  },
  {
   "cell_type": "code",
   "execution_count": 15,
   "metadata": {},
   "outputs": [
    {
     "name": "stdout",
     "output_type": "stream",
     "text": [
      "[10, 8, 5, 3, 3, 0, -2, -8, -9, -12]\n"
     ]
    }
   ],
   "source": [
    "# 3\n",
    "\n",
    "data = [-12, 3, -9, 5, 8, -2, 0, -8, 3, 10]\n",
    "data.sort(reverse=True)\n",
    "print(data)"
   ]
  },
  {
   "cell_type": "code",
   "execution_count": 16,
   "metadata": {},
   "outputs": [
    {
     "name": "stdout",
     "output_type": "stream",
     "text": [
      "[-12, 3, -9, 100, 5, 8, -2, 0, -8, 3, 10]\n"
     ]
    }
   ],
   "source": [
    "#4\n",
    "\n",
    "data = [-12, 3, -9, 5, 8, -2, 0, -8, 3, 10]\n",
    "data.insert(3,100)\n",
    "print(data)"
   ]
  },
  {
   "cell_type": "code",
   "execution_count": 20,
   "metadata": {},
   "outputs": [
    {
     "name": "stdout",
     "output_type": "stream",
     "text": [
      "[3, -9, 5, 8, -2, 0, -8, 3, 10]\n"
     ]
    }
   ],
   "source": [
    "# 5\n",
    "\n",
    "data = [-12, 3, -9, 5, 8, -2, 0, -8, 3, 10]\n",
    "data.pop(0)\n",
    "print(data)"
   ]
  },
  {
   "cell_type": "code",
   "execution_count": 66,
   "metadata": {},
   "outputs": [
    {
     "name": "stdout",
     "output_type": "stream",
     "text": [
      "흑돌의 개수 : 17 \n",
      "백돌의 개수 : 16\n"
     ]
    }
   ],
   "source": [
    "# 6 \n",
    "\n",
    "stone = [[0, 0, 0, 0, 0, 0, 0, 0, 0],\\\n",
    "         [0, 1, 0, 1, 2, 1, 2, 1, 0],\\\n",
    "         [0, 2, 1, 1, 1, 2, 2, 0, 0],\\\n",
    "         [0, 0, 2, 2, 2, 1, 0, 2, 0],\\\n",
    "         [0, 0, 0, 0, 0, 1, 0, 2, 1],\\\n",
    "         [0, 0, 0, 2, 0, 1, 2, 1, 0],\\\n",
    "         [0, 0, 0, 2, 1, 0, 1, 1, 0],\\\n",
    "         [0, 0, 0, 1, 1, 0, 0, 0, 0],\\\n",
    "         [0, 0, 0, 0, 2, 2, 2, 0, 0]]\n",
    "\n",
    "sumb = 0\n",
    "sumw = 0\n",
    "for i in range(0,9):\n",
    "    b = stone[i].count(1)\n",
    "    sumb += b\n",
    "    w = stone[i].count(2)\n",
    "    sumw += w\n",
    "print('흑돌의 개수 : %d \\n백돌의 개수 : %d'%(sumb,sumw))\n"
   ]
  },
  {
   "cell_type": "code",
   "execution_count": 50,
   "metadata": {},
   "outputs": [
    {
     "name": "stdout",
     "output_type": "stream",
     "text": [
      "x x x x x x x x x \n",
      "x ● x ● ○ ● ○ ● x \n",
      "x ○ ● ● ● ○ ○ x x \n",
      "x x ○ ○ ○ ● x ○ x \n",
      "x x x x x ● x ○ ● \n",
      "x x x ○ x ● ○ ● x \n",
      "x x x ○ ● x ● ● x \n",
      "x x x ● ● x x x x \n",
      "x x x x ○ ○ ○ x x \n"
     ]
    }
   ],
   "source": [
    "# 7 \n",
    "\n",
    "stone = [[0, 0, 0, 0, 0, 0, 0, 0, 0],\\\n",
    "         [0, 1, 0, 1, 2, 1, 2, 1, 0],\\\n",
    "         [0, 2, 1, 1, 1, 2, 2, 0, 0],\\\n",
    "         [0, 0, 2, 2, 2, 1, 0, 2, 0],\\\n",
    "         [0, 0, 0, 0, 0, 1, 0, 2, 1],\\\n",
    "         [0, 0, 0, 2, 0, 1, 2, 1, 0],\\\n",
    "         [0, 0, 0, 2, 1, 0, 1, 1, 0],\\\n",
    "         [0, 0, 0, 1, 1, 0, 0, 0, 0],\\\n",
    "         [0, 0, 0, 0, 2, 2, 2, 0, 0]]\n",
    "\n",
    "for i in range(len(stone)):\n",
    "    for k in range(len(stone[i])):\n",
    "        if stone[i][k] == 1:\n",
    "            stone[i][k] = \"●\"\n",
    "        elif stone[i][k] == 2:\n",
    "            stone[i][k] = \"○\"\n",
    "        else:\n",
    "            stone[i][k] = \"x\"\n",
    "            \n",
    "        print(stone[i][k], end = ' ')\n",
    "    print()"
   ]
  },
  {
   "cell_type": "code",
   "execution_count": 84,
   "metadata": {},
   "outputs": [
    {
     "name": "stdout",
     "output_type": "stream",
     "text": [
      "   01 02 03 04 05 06 07 08 09\n",
      "01 x  x  x  x  x  x  x  x  x  \n",
      "02 x  ●  x  ●  ○  ●  ○  ●  x  \n",
      "03 x  ○  ●  ●  ●  ○  ○  x  x  \n",
      "04 x  x  ○  ○  ○  ●  x  ○  x  \n",
      "05 x  x  x  x  x  ●  x  ○  ●  \n",
      "06 x  x  x  ○  x  ●  ○  ●  x  \n",
      "07 x  x  x  ○  ●  x  ●  ●  x  \n",
      "08 x  x  x  ●  ●  x  x  x  x  \n",
      "09 x  x  x  x  ○  ○  ○  x  x  \n"
     ]
    }
   ],
   "source": [
    "# 8\n",
    "stone = [[0, 0, 0, 0, 0, 0, 0, 0, 0],\\\n",
    "         [0, 1, 0, 1, 2, 1, 2, 1, 0],\\\n",
    "         [0, 2, 1, 1, 1, 2, 2, 0, 0],\\\n",
    "         [0, 0, 2, 2, 2, 1, 0, 2, 0],\\\n",
    "         [0, 0, 0, 0, 0, 1, 0, 2, 1],\\\n",
    "         [0, 0, 0, 2, 0, 1, 2, 1, 0],\\\n",
    "         [0, 0, 0, 2, 1, 0, 1, 1, 0],\\\n",
    "         [0, 0, 0, 1, 1, 0, 0, 0, 0],\\\n",
    "         [0, 0, 0, 0, 2, 2, 2, 0, 0]]\n",
    "\n",
    "print('   01 02 03 04 05 06 07 08 09')\n",
    "\n",
    "for i in range(len(stone)):\n",
    "    print('%02d'%(i+1),end=' ')\n",
    "    for k in range(len(stone[i])):\n",
    "        if stone[i][k] == 1:\n",
    "            stone[i][k] = \"● \"\n",
    "        elif stone[i][k] == 2:\n",
    "            stone[i][k] = \"○ \"\n",
    "        else:\n",
    "            stone[i][k] = \"x \"\n",
    "            \n",
    "        print(stone[i][k], end = ' ')\n",
    "    print()"
   ]
  },
  {
   "cell_type": "code",
   "execution_count": 86,
   "metadata": {},
   "outputs": [
    {
     "name": "stdout",
     "output_type": "stream",
     "text": [
      "X축의 좌표값을 입력하세요(1~9,종료 시 -1 입력) : 9\n",
      "Y축의 좌표값을 입력하세요(1~9,종료 시 -1 입력) : 5\n",
      "흑돌\n",
      "X축의 좌표값을 입력하세요(1~9,종료 시 -1 입력) : 7\n",
      "Y축의 좌표값을 입력하세요(1~9,종료 시 -1 입력) : 2\n",
      "백돌\n",
      "X축의 좌표값을 입력하세요(1~9,종료 시 -1 입력) : 4\n",
      "Y축의 좌표값을 입력하세요(1~9,종료 시 -1 입력) : 1\n",
      "돌없음\n",
      "X축의 좌표값을 입력하세요(1~9,종료 시 -1 입력) : -1\n",
      "종료되었습니다!\n"
     ]
    }
   ],
   "source": [
    "# 9 \n",
    "\n",
    "stone = [[0, 0, 0, 0, 0, 0, 0, 0, 0],\\\n",
    "         [0, 1, 0, 1, 2, 1, 2, 1, 0],\\\n",
    "         [0, 2, 1, 1, 1, 2, 2, 0, 0],\\\n",
    "         [0, 0, 2, 2, 2, 1, 0, 2, 0],\\\n",
    "         [0, 0, 0, 0, 0, 1, 0, 2, 1],\\\n",
    "         [0, 0, 0, 2, 0, 1, 2, 1, 0],\\\n",
    "         [0, 0, 0, 2, 1, 0, 1, 1, 0],\\\n",
    "         [0, 0, 0, 1, 1, 0, 0, 0, 0],\\\n",
    "         [0, 0, 0, 0, 2, 2, 2, 0, 0]]\n",
    "\n",
    "while True:\n",
    "    x = int(input('X축의 좌표값을 입력하세요(1~9,종료 시 -1 입력) : '))\n",
    "    if x == -1:\n",
    "        print('종료되었습니다!')\n",
    "        break\n",
    "    y = int(input('Y축의 좌표값을 입력하세요(1~9,종료 시 -1 입력) : '))    \n",
    "    if y == -1: \n",
    "        print('종료되었습니다!')\n",
    "        break\n",
    "        \n",
    "    if stone[y-1][x-1]==1:\n",
    "        print('흑돌')\n",
    "    elif stone[y-1][x-1]==2:\n",
    "        print('백돌')\n",
    "    else:\n",
    "        print('돌없음')"
   ]
  }
 ],
 "metadata": {
  "kernelspec": {
   "display_name": "Python 3",
   "language": "python",
   "name": "python3"
  }
 },
 "nbformat": 4,
 "nbformat_minor": 4
}
