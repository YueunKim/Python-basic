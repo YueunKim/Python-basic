{
 "cells": [
  {
   "cell_type": "markdown",
   "metadata": {},
   "source": [
    "# 조건문"
   ]
  },
  {
   "cell_type": "code",
   "execution_count": 2,
   "metadata": {},
   "outputs": [
    {
     "name": "stdout",
     "output_type": "stream",
     "text": [
      "연도 입력> 1996\n",
      "1996 년은 윤년입니다.\n"
     ]
    }
   ],
   "source": [
    "# 1. 연도를 입력으로 받아 윤년인지 아닌지를 출력하는 프로그램을 작성하시오.\n",
    "\n",
    "year = int(input('연도 입력> '))\n",
    "\n",
    "if year % 4 == 0:\n",
    "    if year % 400 == 0:\n",
    "        print(year, '년은 윤년입니다.')\n",
    "    elif year % 100 == 0:\n",
    "        print(year, '년은 윤년이 아닙니다.')\n",
    "    else:\n",
    "        print(year, '년은 윤년입니다.')\n",
    "else:\n",
    "    print(year, '년은 윤년이 아닙니다.')"
   ]
  },
  {
   "cell_type": "code",
   "execution_count": 3,
   "metadata": {},
   "outputs": [
    {
     "name": "stdout",
     "output_type": "stream",
     "text": [
      "알람 시각> 6 40\n",
      "New alarm time = 5 55\n"
     ]
    }
   ],
   "source": [
    "# 2. 45분 일찍 알람 맞추기\n",
    "\n",
    "hour, min = map(int, input('알람 시각> ').split())\n",
    "\n",
    "if min >= 45:\n",
    "    min -= 45\n",
    "else:\n",
    "    hour -= 1\n",
    "    min += 15          # min = min + 60 - 45\n",
    "\n",
    "print('New alarm time =', hour, min)"
   ]
  },
  {
   "cell_type": "code",
   "execution_count": 6,
   "metadata": {},
   "outputs": [
    {
     "name": "stdout",
     "output_type": "stream",
     "text": [
      "정수 3개 입력> 8 7 9\n",
      "8\n"
     ]
    }
   ],
   "source": [
    "# 3. 세 정수 a, b, c를 입력으로 받아 두 번째로 큰 정수를 출력하는 프로그램을 작성하시오.\n",
    "\n",
    "a, b, c = map(int, input('정수 3개 입력> ').split())\n",
    "\n",
    "if a > b and a > c:\n",
    "    if b > c:\n",
    "        print(b)\n",
    "    else:\n",
    "        print(c)\n",
    "elif b > a and b > c:\n",
    "    if a > c:\n",
    "        print(a)\n",
    "    else:\n",
    "        print(c)\n",
    "else:\n",
    "    if a > b:\n",
    "        print(a)\n",
    "    else:\n",
    "        print(b)"
   ]
  },
  {
   "cell_type": "code",
   "execution_count": 7,
   "metadata": {},
   "outputs": [
    {
     "name": "stdout",
     "output_type": "stream",
     "text": [
      "200 375 425 1000\n",
      "40000 140625 180625\n"
     ]
    }
   ],
   "source": [
    "# 4. a + b + c = 1000 인 피타고라스 수를 구하시오. \n",
    "\n",
    "outer_break = False\n",
    "for a in range(1, 333):\n",
    "    if outer_break:\n",
    "        break\n",
    "    for b in range(a+1, 500):\n",
    "        c = 1000 - a - b\n",
    "        if c < b:\n",
    "            continue\n",
    "        if a**2 + b**2 == c**2:\n",
    "            print(a, b, c, a+b+c)\n",
    "            print(a**2, b**2, c**2)\n",
    "            outer_break = True\n",
    "            break;"
   ]
  },
  {
   "cell_type": "markdown",
   "metadata": {},
   "source": [
    "# 반복문"
   ]
  },
  {
   "cell_type": "code",
   "execution_count": 9,
   "metadata": {},
   "outputs": [
    {
     "name": "stdout",
     "output_type": "stream",
     "text": [
      "테스트 케이스의 개수> 4\n",
      "두 수 입력> 3 1\n",
      "Case #1: 3 + 1 = 4\n",
      "Case #2: 3 + 1 = 4\n",
      "Case #3: 3 + 1 = 4\n",
      "Case #4: 3 + 1 = 4\n"
     ]
    }
   ],
   "source": [
    "# 1. 두 정수 A와 B를 입력받은 다음, A+B를 출력하는 프로그램을 작성하시오.\n",
    "\n",
    "count = int(input('테스트 케이스의 개수> '))\n",
    "a, b = map(int, input('두 수 입력> ').split())\n",
    "\n",
    "for i in range(1, count+1):\n",
    "    print('Case #'+str(i)+':', a, '+', b, '=', a+b)"
   ]
  },
  {
   "cell_type": "code",
   "execution_count": 10,
   "metadata": {},
   "outputs": [
    {
     "name": "stdout",
     "output_type": "stream",
     "text": [
      "5이상 9이하의 홀수> 7\n",
      "   *\n",
      "  ***\n",
      " *****\n",
      "*******\n",
      " *****\n",
      "  ***\n",
      "   *\n"
     ]
    }
   ],
   "source": [
    "# 2. 5이상 9이하의 홀수를 입력받아 다이아몬드 형태의 별을 출력하는 프로그램을 작성하시오.\n",
    "\n",
    "n = int(input('5이상 9이하의 홀수> '))\n",
    "height = (n + 1) // 2\n",
    "\n",
    "for i in range(1, height+1):\n",
    "    for k in range(height-i):\n",
    "        print(' ', end='')\n",
    "    for k in range(i*2-1):\n",
    "        print('*', end='')\n",
    "    print()\n",
    "\n",
    "for i in (range(height-1, 0, -1)):\n",
    "    for k in range(i, height):\n",
    "        print(' ', end='')\n",
    "    for k in range(i*2-1):\n",
    "        print('*', end='')\n",
    "    print()"
   ]
  },
  {
   "cell_type": "code",
   "execution_count": 16,
   "metadata": {},
   "outputs": [
    {
     "name": "stdout",
     "output_type": "stream",
     "text": [
      "29700\n"
     ]
    }
   ],
   "source": [
    "# 3. 디지털 시계에 하루동안(00:00~23:59) 3이 표시되는 시간을 초로 환산하면 총 몇 초(second)?\n",
    "\n",
    "total = 0\n",
    "for hour in range(24):\n",
    "    if hour % 10 == 3:          # 3시, 13시, 23시\n",
    "        total += 60 * 60;\n",
    "    else:\n",
    "        for min in range(60):\n",
    "            if min // 10 == 3:  # 30분 ~ 39분\n",
    "                total += 60\n",
    "            elif min % 10 == 3: # 3분, 13분, 23분, 43분, 53분\n",
    "                total += 60\n",
    "\n",
    "print(total)"
   ]
  },
  {
   "cell_type": "code",
   "execution_count": 18,
   "metadata": {},
   "outputs": [
    {
     "name": "stdout",
     "output_type": "stream",
     "text": [
      "29700\n"
     ]
    }
   ],
   "source": [
    "total = 0\n",
    "for hour in range(24):\n",
    "    for min in range(60):\n",
    "        time = str(hour) + str(min)\n",
    "        if '3' in time:\n",
    "            total += 60\n",
    "\n",
    "print(total)"
   ]
  },
  {
   "cell_type": "code",
   "execution_count": 19,
   "metadata": {},
   "outputs": [
    {
     "name": "stdout",
     "output_type": "stream",
     "text": [
      "[192, 301, 300, 300, 300, 300, 300, 300, 300, 300]\n"
     ]
    }
   ],
   "source": [
    "# 4. 1~1000에서 각 숫자의 개수를 구하시오.\n",
    "\n",
    "counts = [0] * 10\n",
    "\n",
    "for i in range(1, 10):\n",
    "    counts[i] += 1\n",
    "for i in range(10, 100):\n",
    "    counts[i // 10] += 1\n",
    "    counts[i % 10] += 1\n",
    "for i in range(100, 1000):\n",
    "    counts[i // 100] += 1\n",
    "    counts[(i % 100) // 10] += 1\n",
    "    counts[i % 10] += 1\n",
    "for i in range(1000, 1001):\n",
    "    counts[i // 1000] += 1\n",
    "    counts[(i % 1000) // 100] += 1\n",
    "    counts[(i % 100) // 10] += 1\n",
    "    counts[i % 10] += 1\n",
    "\n",
    "print(counts)"
   ]
  },
  {
   "cell_type": "code",
   "execution_count": 20,
   "metadata": {},
   "outputs": [
    {
     "name": "stdout",
     "output_type": "stream",
     "text": [
      "정수 입력> 9\n",
      "6\n"
     ]
    }
   ],
   "source": [
    "# 5. 입력으로 자연수 N을 받고, 출력으로 N 이하의 모든 완전수를 출력하는 코드를 작성하시오\n",
    "\n",
    "def get_divisor(number):     # 자기 자신을 제외한 약수를 구하는 함수\n",
    "    result = list()\n",
    "    for i in range(1, number):\n",
    "        if number % i == 0:\n",
    "            result.append(i)\n",
    "    return result\n",
    "\n",
    "n = int(input('정수 입력> '))\n",
    "for i in range(1, n+1):\n",
    "    div = get_divisor(i)\n",
    "    if i == sum(div):\n",
    "        print(i)"
   ]
  },
  {
   "cell_type": "code",
   "execution_count": 21,
   "metadata": {},
   "outputs": [
    {
     "name": "stdout",
     "output_type": "stream",
     "text": [
      "자연수 입력> 17\n",
      "합의 제곱 = 23409\n",
      "제곱의 합 = 1785\n",
      "차이 = 21624\n"
     ]
    }
   ],
   "source": [
    "# 6. 입력으로 자연수 N을 받아, 1부터 N까지 자연수에 대해 \"합의 제곱\"과 \"제곱의 합\"의 차이는?\n",
    "\n",
    "n = int(input('자연수 입력> '))\n",
    "\n",
    "sum_of_square = 0\n",
    "sum = 0\n",
    "for i in range(1, n+1):\n",
    "    sum += i\n",
    "    sum_of_square += i ** 2\n",
    "square_of_sum = sum ** 2\n",
    "print('합의 제곱 =', square_of_sum)\n",
    "print('제곱의 합 =', sum_of_square)\n",
    "print('차이 =', square_of_sum - sum_of_square)"
   ]
  },
  {
   "cell_type": "markdown",
   "metadata": {},
   "source": [
    "# 문자열 및 파일"
   ]
  },
  {
   "cell_type": "code",
   "execution_count": 22,
   "metadata": {},
   "outputs": [
    {
     "name": "stdout",
     "output_type": "stream",
     "text": [
      "906609 913 993\n"
     ]
    }
   ],
   "source": [
    "# 1. 세 자리 수를 곱해 만들 수 있는 가장 큰 대칭수는 얼마인가?\n",
    "\n",
    "def is_palindrome(a):\n",
    "    for i in range(len(a)//2):\n",
    "        if a[i] != a[-1-i]:\n",
    "            return False\n",
    "    return True\n",
    "\n",
    "max_num = 0\n",
    "for i in range(100, 1000):\n",
    "    for k in range(i, 1000):\n",
    "        if is_palindrome(str(i*k)):\n",
    "            if i*k > max_num:\n",
    "                max_num = i*k\n",
    "                max_a = i\n",
    "                max_b = k\n",
    "print(max_num, max_a, max_b)"
   ]
  },
  {
   "cell_type": "code",
   "execution_count": 23,
   "metadata": {},
   "outputs": [
    {
     "name": "stdout",
     "output_type": "stream",
     "text": [
      "암호화할 문자열과 N값> yueun 6\n",
      "eaQaZ\n"
     ]
    }
   ],
   "source": [
    "# 2. 문장과 n을 입력했을 때 시저암호를 통해 암호를 만들어 출력하는 프로그램을 작성하시오.\n",
    "\n",
    "\n",
    "plain, n = input('암호화할 문자열과 N값> ').split()\n",
    "plain = [c for c in plain]\n",
    "n = int(n)\n",
    "\n",
    "LETTER_A = ord('A')     # 변수명을 대문자로 하면 상수(Constant) 취급을 하게 됨.\n",
    "LETTER_Z = ord('Z')\n",
    "cypher = []\n",
    "for letter in plain:\n",
    "    if ord(letter) + n > LETTER_Z:\n",
    "        cypher.append(chr(LETTER_A + ord(letter) + n - LETTER_Z - 1))\n",
    "    else:\n",
    "        cypher.append(chr(ord(letter) + n))\n",
    "print(''.join(cypher))"
   ]
  },
  {
   "cell_type": "code",
   "execution_count": null,
   "metadata": {},
   "outputs": [],
   "source": [
    "# 3. Linux 명령어인 grep 을 윈도우스에서 만들어 보시오.\n",
    "\n",
    "word, filename = input('찾고자 하는 문자열과 파일명> ').split()\n",
    "\n",
    "line_no = 1\n",
    "with open(filename, 'r', encoding='UTF-8') as file:\n",
    "    for line in file:\n",
    "        if line.find(word) >= 0:\n",
    "            print('%3d:' % line_no, line, end='')\n",
    "        line_no += 1"
   ]
  },
  {
   "cell_type": "code",
   "execution_count": null,
   "metadata": {},
   "outputs": [],
   "source": [
    "# 4. 텍스트를 파일에서 읽어 단어의 개수를 세는 프로그램 Word Count를 작성하시오.\n",
    "\n",
    "# UNIX wc 명령어\n",
    "# 구분자는 마침표(‘.’), 쉽표(‘,’), 공백(‘ ‘)\n",
    "filename = input('파일 이름> ')\n",
    "words_dict = dict()\n",
    "\n",
    "with open(filename, 'r', encoding='UTF-8') as file:\n",
    "    for line in file:\n",
    "        linewords = line.replace('(', ' ').replace(')', ' ')\\\n",
    "                        .replace(',', ' ').replace('.', ' ').split()\n",
    "        #print(linewords)\n",
    "        for word in linewords:\n",
    "            count = words_dict.get(word, 0)\n",
    "            #print(count, end=' ')\n",
    "            if count == 0:\n",
    "                words_dict.setdefault(word, 1)\n",
    "            else:\n",
    "                words_dict.update(dict([(word, count+1)]))\n",
    "\n",
    "print('총 단어수 =', len(words_dict))\n",
    "import operator\n",
    "words_list = sorted(words_dict.items(), key=operator.itemgetter(1), reverse=True)\n",
    "print('많이 나온 단어')\n",
    "for i in range(10):\n",
    "    print(words_list[i])"
   ]
  },
  {
   "cell_type": "code",
   "execution_count": null,
   "metadata": {},
   "outputs": [],
   "source": [
    "# 5. 다음의 지시대로 폴더와 파일을 프로그램에서 만드시오.\n",
    "\n",
    "# 랜덤으로 1, 2, 3 중 하나를 내용으로 갖는 txt 파일100개를 하나의 디렉토리(c:/Temp/Ex04) 안에 생성하는 코드를 작성하시오. \u000b",
    "(파일 제목은 4자리 정수를 랜덤으로 할당. ex - 1382.txt , 0201.txt , 9012.txt , ......... )\n",
    "# 제목이 0000~3333 인 txt 파일은 low 폴더로, 3334~6666인 txt 파일은 mid 폴더로, 6667~9999 인 파일은 high 폴더로 이동시키는 코드를 작성하시오.\n",
    "# low, mid, high 폴더 안에 제목이 1, 2, 3 인 폴더를 각각 만들고, txt 파일 안의 내용에 따라 txt파일을 폴더안으로 이동시켜 분류하시오.\n",
    "# 결론적으로 c:/Temp/Ex04 폴더 밑에는 low, mid, high 폴더 3개가 생기고, 이 각각의 폴더에는 1, 2, 3 폴더가 각각 생기고 이 폴더밑에 파일이 들어 있어야 함.\n",
    "\n",
    "\n",
    "import os\n",
    "import shutil\n",
    "import random as rd\n",
    "PATH = 'c:/Temp/Exercise_3-5'\n",
    "os.mkdir(PATH)\n",
    "os.chdir(PATH)\n",
    "for dirname in ('low', 'mid', 'high'):\n",
    "    os.mkdir(PATH + '/' + dirname)\n",
    "    for num in ('1', '2', '3'):\n",
    "        os.mkdir(PATH + '/' + dirname + '/' + num)\n",
    "\n",
    "for i in range(100):\n",
    "    filenumber = rd.randint(0, 9999)\n",
    "    content = str(rd.randint(1, 3))\n",
    "    filename = '%04d.txt' % filenumber\n",
    "    file = open(filename, 'w')\n",
    "    file.write(content)\n",
    "    file.close()\n",
    "\n",
    "filelist = os.listdir(PATH)\n",
    "for filename in filelist:\n",
    "    # 디렉토리면 처리하지 않고 Loop을 반복\n",
    "    if os.path.isdir(filename):\n",
    "        continue\n",
    "\n",
    "    # 일반 파일이면\n",
    "    # 파일이름에서 숫자를 구하고, 파일을 읽어서 콘텐츠를 가져온다.\n",
    "    filenumber = int(filename[0:4])     # '1234.txt'로 부터 1234를 구함\n",
    "    file = open(filename, 'r')\n",
    "    content = file.read(1)\n",
    "    file.close()\n",
    "\n",
    "    # 원하는 위치에 파일을 이동\n",
    "    if filenumber <= 3333:\n",
    "        dirname = 'low'\n",
    "    elif filenumber <= 6666:\n",
    "        dirname = 'mid'\n",
    "    else:\n",
    "        dirname = 'high'\n",
    "    dst = dirname + '/' + content + '/' + filename\n",
    "    shutil.move(filename, dst)"
   ]
  },
  {
   "cell_type": "code",
   "execution_count": null,
   "metadata": {},
   "outputs": [],
   "source": [
    "# 6. Binary 파일을 16진수 값으로 출력하는 HexaDump 프로그램을 작성하시오.\n",
    "\n",
    "#import binascii as ba\n",
    "import os\n",
    "\n",
    "def show_hexa(addr, buf, size):\n",
    "    if addr % 1024 == 0 and addr != 0:\n",
    "        print()\n",
    "    print('%08X: ' % addr, end = ' ')\n",
    "    if size != 16:\n",
    "        for i in range(size):\n",
    "            if i == 8:\n",
    "                print(end=' ')\n",
    "            print('%02X' % buf[i], end=' ')\n",
    "        for i in range(size, 16):\n",
    "            if i == 8:\n",
    "                print(end=' ')\n",
    "            print('  ', end=' ')\n",
    "    else:\n",
    "        for i in range(size):\n",
    "            if i == 8:\n",
    "                print(end=' ')\n",
    "            print('%02X' % buf[i], end=' ')\n",
    "    print('  ', end='')\n",
    "    for i in range(size):\n",
    "        if i == 8:\n",
    "            print(end=' ')\n",
    "        if buf[i] < 0x20 or buf[i] > 0x7e:\n",
    "            print('.', end='')\n",
    "        else:\n",
    "            print(chr(buf[i]), end='')\n",
    "    print()\n",
    "\n",
    "filename = input('읽을 파일> ')\n",
    "file_length = os.path.getsize(filename)\n",
    "with open(filename, 'rb') as file:\n",
    "    count = 0\n",
    "    for i in range(0, file_length, 16):\n",
    "        buf = file.read(16)\n",
    "        if file_length - i < 16:\n",
    "            size = file_length - i\n",
    "        else:\n",
    "            size = 16\n",
    "        show_hexa(i, buf, size)"
   ]
  }
 ],
 "metadata": {
  "kernelspec": {
   "display_name": "Python 3",
   "language": "python",
   "name": "python3"
  },
  "language_info": {
   "codemirror_mode": {
    "name": "ipython",
    "version": 3
   },
   "file_extension": ".py",
   "mimetype": "text/x-python",
   "name": "python",
   "nbconvert_exporter": "python",
   "pygments_lexer": "ipython3",
   "version": "3.7.6"
  }
 },
 "nbformat": 4,
 "nbformat_minor": 4
}
