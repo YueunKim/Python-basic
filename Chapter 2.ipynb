{
 "cells": [
  {
   "cell_type": "markdown",
   "metadata": {},
   "source": [
    "# Chapter 2. 파이썬의 기본 문법 (Basic Python syntax)"
   ]
  },
  {
   "cell_type": "code",
   "execution_count": 2,
   "metadata": {},
   "outputs": [
    {
     "name": "stdout",
     "output_type": "stream",
     "text": [
      "50\n"
     ]
    }
   ],
   "source": [
    "# 2-1. add\n",
    "a = 20 \n",
    "b = 30 \n",
    "c = a+b\n",
    "print(c) "
   ]
  },
  {
   "cell_type": "code",
   "execution_count": 11,
   "metadata": {},
   "outputs": [
    {
     "name": "stdout",
     "output_type": "stream",
     "text": [
      "20 Mac 25 100 유은 1996 20.3\n"
     ]
    }
   ],
   "source": [
    "# 2-2. right variable(1)\n",
    "x = 20\n",
    "Computer = 'Mac'\n",
    "Age = 23\n",
    "my_score = 100\n",
    "_name = '유은'\n",
    "myBirthYear = 1996\n",
    "data2 = 20.3\n",
    "\n",
    "print(x,Computer,Age,my_score,_name,myBirthYear,data2)"
   ]
  },
  {
   "cell_type": "code",
   "execution_count": 12,
   "metadata": {},
   "outputs": [
    {
     "name": "stdout",
     "output_type": "stream",
     "text": [
      "20 Mac 25 100 yuny 1996 20.3\n"
     ]
    }
   ],
   "source": [
    "# 2-2. right variable(2)\n",
    "x = 20\n",
    "computer = 'Mac'\n",
    "age = 23\n",
    "my_score = 100\n",
    "_name = 'yuny'\n",
    "my_birthyear = 1996\n",
    "data2 = 20.3\n",
    "\n",
    "print(x,computer,age,my_score,_name,my_birthyear,data2)"
   ]
  },
  {
   "cell_type": "code",
   "execution_count": 13,
   "metadata": {},
   "outputs": [
    {
     "name": "stdout",
     "output_type": "stream",
     "text": [
      "30\n",
      "<class 'int'>\n"
     ]
    }
   ],
   "source": [
    "# 2-4. Integer\n",
    "x = 30\n",
    "print(x)\n",
    "print(type(x))"
   ]
  },
  {
   "cell_type": "code",
   "execution_count": 15,
   "metadata": {},
   "outputs": [
    {
     "name": "stdout",
     "output_type": "stream",
     "text": [
      "3.3764 3.0\n",
      "<class 'float'> <class 'float'>\n"
     ]
    }
   ],
   "source": [
    "# 2-5. float\n",
    "x = 3.3764\n",
    "y = 6/2\n",
    "print(x,y)\n",
    "print(type(x),type(y))"
   ]
  },
  {
   "cell_type": "code",
   "execution_count": 21,
   "metadata": {},
   "outputs": [
    {
     "name": "stdout",
     "output_type": "stream",
     "text": [
      "Hi my name is 김유은\n",
      "<class 'str'>\n"
     ]
    }
   ],
   "source": [
    "# 2-6. string\n",
    "a = 'Hi'\n",
    "b = 'my name is'\n",
    "c = \"김유은\"\n",
    "print(a,b,c)\n",
    "print(type(c))"
   ]
  },
  {
   "cell_type": "code",
   "execution_count": 41,
   "metadata": {},
   "outputs": [
    {
     "name": "stdout",
     "output_type": "stream",
     "text": [
      "30\n",
      "<class 'int'>\n",
      "30\n",
      "<class 'str'>\n"
     ]
    }
   ],
   "source": [
    "# 2-7. Difference between 30 and '30'\n",
    "a = 30           # 0001 1110\n",
    "print(a)\n",
    "print(type(a))\n",
    "\n",
    "b ='30'          # ASCII code (0x30, 0x30), Human interation\n",
    "print(b)\n",
    "print(type(b))"
   ]
  },
  {
   "cell_type": "code",
   "execution_count": 42,
   "metadata": {},
   "outputs": [
    {
     "name": "stdout",
     "output_type": "stream",
     "text": [
      "I am happy~\n",
      "I\n",
      "I a\n",
      "am\n",
      "happy~\n",
      "I am\n",
      "~\n",
      "pp\n",
      "happy\n",
      "내 강아지 이름은 happy\n"
     ]
    }
   ],
   "source": [
    "# 2-8. Index, Slicing\n",
    "x = \"I am happy~\"\n",
    "print(x)\n",
    "print(x[0])\n",
    "print(x[0:3])   \n",
    "print(x[2:4])\n",
    "print(x[5:])\n",
    "print(x[:4])\n",
    "print(x[-1])\n",
    "print(x[-4:-2])\n",
    "print(x[5:-1])\n",
    "\n",
    "y = '내 강아지 이름은 happy입니다'\n",
    "print(y[:9],\"happy\")"
   ]
  },
  {
   "cell_type": "code",
   "execution_count": 45,
   "metadata": {},
   "outputs": [
    {
     "name": "stdout",
     "output_type": "stream",
     "text": [
      "True False\n",
      "<class 'bool'>\n",
      "False\n"
     ]
    }
   ],
   "source": [
    "# 2-9. Bool data (True, False)\n",
    "a = True\n",
    "b = False\n",
    "print(a,b)\n",
    "print(type(a))\n",
    "\n",
    "c = 10>20\n",
    "print(c)"
   ]
  },
  {
   "cell_type": "code",
   "execution_count": 49,
   "metadata": {},
   "outputs": [
    {
     "name": "stdout",
     "output_type": "stream",
     "text": [
      "209.0\n",
      "1\n",
      "2\n",
      "8 10000\n"
     ]
    }
   ],
   "source": [
    "# 2-10~12. Arithmetic Operator\n",
    "a = 10\n",
    "b = 20 \n",
    "c = a + b * 10 -5/5\n",
    "print(c)\n",
    "\n",
    "x = 10 % 3\n",
    "print(x)\n",
    "y = 7//3\n",
    "print(y)\n",
    "\n",
    "z = 2**3\n",
    "t = 10**4\n",
    "print(z,t)"
   ]
  },
  {
   "cell_type": "code",
   "execution_count": 52,
   "metadata": {},
   "outputs": [
    {
     "name": "stdout",
     "output_type": "stream",
     "text": [
      "30\n",
      "990\n"
     ]
    }
   ],
   "source": [
    "# 2-13~14. Assignment Operator\n",
    "x = 10\n",
    "x += 20       # x = x + 20\n",
    "print(x)\n",
    "\n",
    "y = 3\n",
    "x *= x+y      # x = *(x + y)\n",
    "print(x)"
   ]
  },
  {
   "cell_type": "code",
   "execution_count": 54,
   "metadata": {},
   "outputs": [
    {
     "name": "stdout",
     "output_type": "stream",
     "text": [
      "안녕하세용안녕하세용\n"
     ]
    }
   ],
   "source": [
    "# 2-15. String Repeat\n",
    "hello = '안녕하세용' * 2\n",
    "print(hello)"
   ]
  },
  {
   "cell_type": "code",
   "execution_count": 56,
   "metadata": {},
   "outputs": [
    {
     "name": "stdout",
     "output_type": "stream",
     "text": [
      "18\n"
     ]
    }
   ],
   "source": [
    "# 2-16. String length\n",
    "a = 'what is your name?'\n",
    "b = len(a)\n",
    "print(b)"
   ]
  },
  {
   "cell_type": "code",
   "execution_count": 69,
   "metadata": {},
   "outputs": [
    {
     "name": "stdout",
     "output_type": "stream",
     "text": [
      "김유은님 안녕하세요!\n",
      "수학점수 : 90점\n"
     ]
    }
   ],
   "source": [
    "# 2-17~19. String concatenation\n",
    "name = '김유은'\n",
    "greet = name + '님 안녕하세요!'\n",
    "print(greet)\n",
    "\n",
    "eng = 90\n",
    "result = '수학점수 : ' + str(eng) + '점'\n",
    "print(result)"
   ]
  },
  {
   "cell_type": "code",
   "execution_count": 70,
   "metadata": {},
   "outputs": [
    {
     "name": "stdout",
     "output_type": "stream",
     "text": [
      "나는 김유은입니다.\n",
      "age is 23\n",
      "2020-05-29\n",
      "키는 164.80입니다.\n"
     ]
    }
   ],
   "source": [
    "# 2-20~23. String format\n",
    "name = '김유은'\n",
    "a = '나는 %s입니다.' %name \n",
    "print(a)\n",
    "\n",
    "age = 23\n",
    "a = 'age is %d' %age\n",
    "print(a)\n",
    "\n",
    "year = 2020\n",
    "month = 5\n",
    "day = 29\n",
    "a = '%d-%02d-%02d'%(year,month,day)\n",
    "print(a)\n",
    "\n",
    "height = 164.8\n",
    "a = '키는 %.2f입니다.' %height\n",
    "print(a)"
   ]
  },
  {
   "cell_type": "code",
   "execution_count": 73,
   "metadata": {},
   "outputs": [
    {
     "name": "stdout",
     "output_type": "stream",
     "text": [
      "이름 : Yuny Kim 나이 : 23세 시력 : 0.1\n"
     ]
    }
   ],
   "source": [
    "# 2-24. str.format()\n",
    "name = 'Yuny Kim'\n",
    "age = '23'\n",
    "eyesight = 0.1\n",
    "\n",
    "a = '이름 : {}'.format(name)\n",
    "b = '나이 : {}세'.format(age)\n",
    "c = '시력 : {}'.format(eyesight)\n",
    "\n",
    "print(a,b,c)"
   ]
  },
  {
   "cell_type": "code",
   "execution_count": 82,
   "metadata": {},
   "outputs": [
    {
     "data": {
      "text/plain": [
       "2"
      ]
     },
     "execution_count": 82,
     "metadata": {},
     "output_type": "execute_result"
    }
   ],
   "source": [
    "# string method\n",
    "x = 'I am happy! Are you happy?'\n",
    "x.count('happy')"
   ]
  },
  {
   "cell_type": "code",
   "execution_count": 83,
   "metadata": {},
   "outputs": [
    {
     "data": {
      "text/plain": [
       "'I AM HAPPY! ARE YOU HAPPY?'"
      ]
     },
     "execution_count": 83,
     "metadata": {},
     "output_type": "execute_result"
    }
   ],
   "source": [
    "x.upper()"
   ]
  },
  {
   "cell_type": "code",
   "execution_count": 85,
   "metadata": {},
   "outputs": [
    {
     "data": {
      "text/plain": [
       "'i am happy! are you happy?'"
      ]
     },
     "execution_count": 85,
     "metadata": {},
     "output_type": "execute_result"
    }
   ],
   "source": [
    "x.lower()"
   ]
  },
  {
   "cell_type": "code",
   "execution_count": 87,
   "metadata": {},
   "outputs": [
    {
     "data": {
      "text/plain": [
       "'I was happy! Are you happy?'"
      ]
     },
     "execution_count": 87,
     "metadata": {},
     "output_type": "execute_result"
    }
   ],
   "source": [
    "x.replace('am','was')"
   ]
  },
  {
   "cell_type": "code",
   "execution_count": 93,
   "metadata": {},
   "outputs": [
    {
     "data": {
      "text/plain": [
       "['I', 'am', 'happy!', 'Are', 'you', 'happy?']"
      ]
     },
     "execution_count": 93,
     "metadata": {},
     "output_type": "execute_result"
    }
   ],
   "source": [
    "x.split(' ')"
   ]
  },
  {
   "cell_type": "code",
   "execution_count": 98,
   "metadata": {},
   "outputs": [
    {
     "data": {
      "text/plain": [
       "False"
      ]
     },
     "execution_count": 98,
     "metadata": {},
     "output_type": "execute_result"
    }
   ],
   "source": [
    "x.isspace()"
   ]
  },
  {
   "cell_type": "code",
   "execution_count": 17,
   "metadata": {},
   "outputs": [
    {
     "name": "stdout",
     "output_type": "stream",
     "text": [
      "Yuny 23 164.8\n",
      "x=10,y=10\n",
      "두 과목 점수 : 80, 92\n",
      "이름 : Yuny\n",
      "아이디 : yueunkim0605, 마일리지 : 23000\n",
      "오늘은 2020/5/29 입니다\n"
     ]
    }
   ],
   "source": [
    "# 2-25~30 print()\n",
    "name = 'Yuny'\n",
    "age = 23\n",
    "height = 164.8\n",
    "print(name,age,height)\n",
    "\n",
    "x = 10\n",
    "y = 10\n",
    "print('x='+str(x)+',y='+str(y))\n",
    "\n",
    "score1 = 80\n",
    "score2 = 92\n",
    "sum = score1 + score2\n",
    "avg = sum/2\n",
    "print('두 과목 점수 : %d, %d'%(score1,score2))\n",
    "\n",
    "name = 'Yuny'\n",
    "id = 'yueunkim0605'\n",
    "point = 23000\n",
    "print('이름 : {}'.format(name))\n",
    "print('아이디 : {}, 마일리지 : {}'.format(id,point))\n",
    "\n",
    "year = 2020\n",
    "month = 5\n",
    "day = 29\n",
    "print('오늘은',end=' ')\n",
    "print(year,month,day,sep='/',end=' ')\n",
    "print('입니다')"
   ]
  },
  {
   "cell_type": "code",
   "execution_count": 19,
   "metadata": {},
   "outputs": [
    {
     "name": "stdout",
     "output_type": "stream",
     "text": [
      "이름을 입력하세요 : yuny\n",
      "yuny님 반갑습니다.\n"
     ]
    }
   ],
   "source": [
    "# 2-31 input()\n",
    "name = input('이름을 입력하세요 : ')\n",
    "print('%s님 반갑습니다.'%name)"
   ]
  },
  {
   "cell_type": "code",
   "execution_count": 23,
   "metadata": {},
   "outputs": [
    {
     "name": "stdout",
     "output_type": "stream",
     "text": [
      "first number : 1\n",
      "second number : 2\n",
      "3\n",
      "first number : 5\n",
      "second number : 6\n",
      "12\n"
     ]
    }
   ],
   "source": [
    "# 2-32~33 Sum of two numbers entered\n",
    "a = input('first number : ')\n",
    "b = input('second number : ')\n",
    "c = int(a) + int(b)\n",
    "print(c)\n",
    "\n",
    "d = int(input('first number : '))\n",
    "e = int(input('second number : '))\n",
    "f = a + b\n",
    "print(f)"
   ]
  },
  {
   "cell_type": "code",
   "execution_count": 27,
   "metadata": {},
   "outputs": [
    {
     "name": "stdout",
     "output_type": "stream",
     "text": [
      "인치 : 29\n",
      "cm : 73.66\n"
     ]
    }
   ],
   "source": [
    "# 2-34 Convert inch to cm\n",
    "inch = float(input('인치 : '))\n",
    "cm = inch * 2.54\n",
    "print('cm : %.2f'%cm)"
   ]
  }
 ],
 "metadata": {
  "kernelspec": {
   "display_name": "Python 3",
   "language": "python",
   "name": "python3"
  },
  "language_info": {
   "codemirror_mode": {
    "name": "ipython",
    "version": 3
   },
   "file_extension": ".py",
   "mimetype": "text/x-python",
   "name": "python",
   "nbconvert_exporter": "python",
   "pygments_lexer": "ipython3",
   "version": "3.7.6"
  }
 },
 "nbformat": 4,
 "nbformat_minor": 4
}
