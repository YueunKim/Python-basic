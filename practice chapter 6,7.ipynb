{
 "cells": [
  {
   "cell_type": "markdown",
   "metadata": {},
   "source": [
    "# Chapter 6. practice"
   ]
  },
  {
   "cell_type": "code",
   "execution_count": 20,
   "metadata": {},
   "outputs": [
    {
     "name": "stdout",
     "output_type": "stream",
     "text": [
      "1. 아이디 : kim99, 마일리지 : 12000\n",
      "2. 아이디 : lee66, 마일리지 : 11000\n",
      "3. 아이디 : han55, 마일리지 : 3000\n",
      "4. 아이디 : hong77, 마일리지 : 5000\n",
      "5. 아이디 : hwang33, 마일리지 : 18000\n"
     ]
    }
   ],
   "source": [
    "# 1 \n",
    "\n",
    "dict = {'kim99':12000, 'lee66':11000, 'han55':3000, 'hong77':5000, 'hwang33':18000}\n",
    "\n",
    "number = 0\n",
    "for key in dict:\n",
    "    number += 1\n",
    "    print('%d. 아이디 : %s, 마일리지 : %d'%(number,key, dict[key]))\n",
    "    "
   ]
  },
  {
   "cell_type": "code",
   "execution_count": 35,
   "metadata": {},
   "outputs": [
    {
     "name": "stdout",
     "output_type": "stream",
     "text": [
      "전체 딕셔너리 : {'kim99': 12000, 'lee66': 11000, 'han55': 3000, 'hong77': 5000, 'hwang33': 18000, 'jang88': 7000}\n",
      "jang88님의 마일리지(7000점)가 추가 되었습니다.\n"
     ]
    }
   ],
   "source": [
    "# 3\n",
    "\n",
    "dict = {'kim99':12000, 'lee66':11000, 'han55':3000, 'hong77':5000, 'hwang33':18000}\n",
    "\n",
    "dict['jang88'] = 7000\n",
    "print('전체 딕셔너리 :',dict)\n",
    "print('jang88님의 마일리지(%d점)가 추가 되었습니다.'%(dict['jang88']))"
   ]
  },
  {
   "cell_type": "code",
   "execution_count": 51,
   "metadata": {},
   "outputs": [
    {
     "name": "stdout",
     "output_type": "stream",
     "text": [
      "--------------------------------------------------\n",
      "월   화   수   목   금   토   일   \n",
      "--------------------------------------------------\n",
      "25.2 28.3 33.2 32.1 17.3 35.3 33.3 \n",
      "--------------------------------------------------\n"
     ]
    }
   ],
   "source": [
    "# 5\n",
    "\n",
    "tem = {'월':25.2, '화':28.3, '수':33.2, '목':32.1, '금':17.3, '토':35.3, '일':33.3}\n",
    "\n",
    "print('-'*50)\n",
    "for key in tem.keys():\n",
    "    print(key, end='   ')   \n",
    "\n",
    "print()    \n",
    "print('-'*50)\n",
    "\n",
    "for value in tem.values():\n",
    "     print(value, end=' ')\n",
    "        \n",
    "print()\n",
    "print('-'*50)"
   ]
  },
  {
   "cell_type": "code",
   "execution_count": 28,
   "metadata": {},
   "outputs": [
    {
     "name": "stdout",
     "output_type": "stream",
     "text": [
      "기온이 30도 이상인 요일 : 수 목 토 일 \n"
     ]
    }
   ],
   "source": [
    "# 7\n",
    "\n",
    "tem = {'월':25.2, '화':28.3, '수':33.2, '목':32.1, '금':17.3, '토':35.3, '일':33.3}\n",
    "\n",
    "a = ''\n",
    "\n",
    "for i in tem.keys():\n",
    "    if tem[i] >= 30:\n",
    "        a += (i+' ')\n",
    "\n",
    "print('기온이 30도 이상인 요일 :', a)"
   ]
  },
  {
   "cell_type": "markdown",
   "metadata": {},
   "source": [
    "# Chapter 7. practice"
   ]
  },
  {
   "cell_type": "code",
   "execution_count": 2,
   "metadata": {},
   "outputs": [
    {
     "name": "stdout",
     "output_type": "stream",
     "text": [
      "20,10\n"
     ]
    }
   ],
   "source": [
    "# 1\n",
    "\n",
    "def f1(a):\n",
    "    a += 10\n",
    "    print(a, end=',')\n",
    "    \n",
    "a = 10\n",
    "f1(a)\n",
    "print(a)"
   ]
  },
  {
   "cell_type": "code",
   "execution_count": 55,
   "metadata": {},
   "outputs": [
    {
     "name": "stdout",
     "output_type": "stream",
     "text": [
      "n값을 입력해 주세요 : 20\n",
      "2 ~ 20 까지의 정수 중 소수 : 2 3 5 7 11 13 17 19 \n"
     ]
    }
   ],
   "source": [
    "# 3\n",
    "\n",
    "n = int(input('n값을 입력해 주세요 : '))\n",
    "\n",
    "b = ''\n",
    "\n",
    "for i in range(2, n):\n",
    "    a = True\n",
    "    for j in range(2, i):\n",
    "        if i % j == 0:\n",
    "            a = False\n",
    "            break\n",
    "    if a:\n",
    "        b += (str(i)+' ')\n",
    "        \n",
    "print('2 ~ %d 까지의 정수 중 소수 :'%n, b)"
   ]
  },
  {
   "cell_type": "code",
   "execution_count": 5,
   "metadata": {},
   "outputs": [
    {
     "name": "stdout",
     "output_type": "stream",
     "text": [
      "[1, 4, 9, 16, 25]\n"
     ]
    }
   ],
   "source": [
    "# 5\n",
    "\n",
    "def numSquare(num):\n",
    "    list_new = []\n",
    "    for i in range(1, num+1):\n",
    "        list_new.append(i**2)\n",
    "        \n",
    "    return list_new\n",
    "\n",
    "n = 5\n",
    "result = numSquare(n)\n",
    "print(result)"
   ]
  },
  {
   "cell_type": "code",
   "execution_count": 1,
   "metadata": {},
   "outputs": [
    {
     "name": "stdout",
     "output_type": "stream",
     "text": [
      "※ 비밀번호는 10자리 이상, 영문 대문자를 포함하여야 합니다.\n",
      "비밀번호 : 3677848\n",
      "비밀번호 확인 : 3677848\n",
      "비밀번호가 잘못되었습니다! 다시 입력해 주세요\n",
      "비밀번호 : A123456789\n",
      "비밀번호 확인 : SFDAFSD\n",
      "비밀번호와 비밀번호 확인이 서로 다릅니다! 다시 입력해 주세요!\n",
      "비밀번호 : A123456789\n",
      "비밀번호 확인 : A123456789\n",
      "유효한 비밀번호입니다~~~\n"
     ]
    }
   ],
   "source": [
    "# 7\n",
    "\n",
    "print('※ 비밀번호는 10자리 이상, 영문 대문자를 포함하여야 합니다.')\n",
    "\n",
    "while True:\n",
    "    password = input('비밀번호 : ')\n",
    "    same = input('비밀번호 확인 : ')\n",
    "    \n",
    "    if len(password) < 10 or password.isupper() == False:\n",
    "        print('비밀번호가 잘못되었습니다! 다시 입력해 주세요')\n",
    "    elif len(password) >= 10 and password.isupper() == True and password != same:\n",
    "        print('비밀번호와 비밀번호 확인이 서로 다릅니다! 다시 입력해 주세요!')\n",
    "    else:\n",
    "        print('유효한 비밀번호입니다~~~')\n",
    "        break\n"
   ]
  }
 ],
 "metadata": {
  "kernelspec": {
   "display_name": "Python 3",
   "language": "python",
   "name": "python3"
  },
  "language_info": {
   "codemirror_mode": {
    "name": "ipython",
    "version": 3
   },
   "file_extension": ".py",
   "mimetype": "text/x-python",
   "name": "python",
   "nbconvert_exporter": "python",
   "pygments_lexer": "ipython3",
   "version": "3.7.6"
  }
 },
 "nbformat": 4,
 "nbformat_minor": 4
}
