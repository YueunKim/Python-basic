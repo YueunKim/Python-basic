{
 "cells": [
  {
   "cell_type": "markdown",
   "metadata": {},
   "source": [
    "# Chapter 3. 조건문 (if ~ elif ~ else)"
   ]
  },
  {
   "cell_type": "code",
   "execution_count": 21,
   "metadata": {},
   "outputs": [
    {
     "name": "stdout",
     "output_type": "stream",
     "text": [
      "숫자 : 763\n",
      "양수\n"
     ]
    }
   ],
   "source": [
    "# 3-1. if ~ else\n",
    "x = int(input('숫자 : '))\n",
    "if x > 0:\n",
    "    print('양수')\n",
    "else :\n",
    "    print('0 또는 음수')"
   ]
  },
  {
   "cell_type": "code",
   "execution_count": 30,
   "metadata": {},
   "outputs": [
    {
     "name": "stdout",
     "output_type": "stream",
     "text": [
      "숫자 : -234\n",
      "음수입니다\n"
     ]
    }
   ],
   "source": [
    "y = int(input('숫자 : '))\n",
    "if y > 0:\n",
    "    print('양수입니다')\n",
    "else:\n",
    "    if y < 0:\n",
    "        print('음수입니다')\n",
    "    else:\n",
    "        print('0 입니다')"
   ]
  },
  {
   "cell_type": "code",
   "execution_count": 24,
   "metadata": {},
   "outputs": [
    {
     "name": "stdout",
     "output_type": "stream",
     "text": [
      "True\n",
      "True\n",
      "True\n",
      "True\n",
      "False\n",
      "False\n",
      "False\n"
     ]
    }
   ],
   "source": [
    "# 3-2~3. Comparison operator\n",
    "x = 10\n",
    "y = 3\n",
    "print(x > 9)\n",
    "print(y <= 10)\n",
    "print(x + y == 13)\n",
    "print(x % 2 == 0)\n",
    "print(y % 2 == 0)\n",
    "print(x % 4 == 0)\n",
    "print(y % 3 != 0)"
   ]
  },
  {
   "cell_type": "code",
   "execution_count": 32,
   "metadata": {},
   "outputs": [
    {
     "name": "stdout",
     "output_type": "stream",
     "text": [
      "필기성적 : 98\n",
      "실기성적 : 45\n",
      "FAIL..\n"
     ]
    }
   ],
   "source": [
    "# 3-4. Logical operator (and)\n",
    "score1 = int(input('필기성적 : '))\n",
    "score2 = int(input('실기성적 : '))\n",
    "\n",
    "if score1 >= 88 and score2 >= 90:\n",
    "    print('PASS!!')\n",
    "else:\n",
    "    print('FAIL..')"
   ]
  },
  {
   "cell_type": "code",
   "execution_count": 1,
   "metadata": {},
   "outputs": [
    {
     "name": "stdout",
     "output_type": "stream",
     "text": [
      "ID : admin\n",
      "LEVEL : 7\n",
      "관리자\n"
     ]
    }
   ],
   "source": [
    "# 3-5. Logical operator (or)\n",
    "id = input('ID : ')\n",
    "level = int(input('LEVEL : '))\n",
    "\n",
    "if id=='admin' or level==1:\n",
    "    print('관리자')\n",
    "else:\n",
    "    print('관리자 아님')\n",
    "   "
   ]
  },
  {
   "cell_type": "code",
   "execution_count": 2,
   "metadata": {},
   "outputs": [
    {
     "name": "stdout",
     "output_type": "stream",
     "text": [
      "name : dfacsd\n",
      "이름 : dfacsd\n"
     ]
    }
   ],
   "source": [
    "# 3-4. Logical operator (not)\n",
    "name = input('name : ')\n",
    "\n",
    "if not name:\n",
    "    print('이름이 입력되지 않음')\n",
    "else:\n",
    "    print('이름 : %s'%name)"
   ]
  },
  {
   "cell_type": "code",
   "execution_count": 3,
   "metadata": {},
   "outputs": [
    {
     "name": "stdout",
     "output_type": "stream",
     "text": [
      "True\n",
      "False\n"
     ]
    }
   ],
   "source": [
    "# 3-4. True, False\n",
    "print(True) if 15 else print(False)\n",
    "print(True) if None else print(False)"
   ]
  },
  {
   "cell_type": "code",
   "execution_count": 9,
   "metadata": {},
   "outputs": [
    {
     "name": "stdout",
     "output_type": "stream",
     "text": [
      "age : 12\n",
      "입장료 : 1500원\n"
     ]
    }
   ],
   "source": [
    "# practice\n",
    "age = int(input('age : '))\n",
    "pay = '3000원'\n",
    "\n",
    "if age >= 65 or age < 7:\n",
    "    pay = '무료'\n",
    "elif age <= 18:\n",
    "    pay = '1500원'\n",
    "else:\n",
    "    pay = '3000원'\n",
    "print('입장료 : %s'%pay)"
   ]
  },
  {
   "cell_type": "code",
   "execution_count": 13,
   "metadata": {},
   "outputs": [
    {
     "name": "stdout",
     "output_type": "stream",
     "text": [
      "점수가 얼마야? : 76\n",
      "성적 : 76점\n",
      "등급 : C\n"
     ]
    }
   ],
   "source": [
    "# practice\n",
    "score = int(input('점수가 얼마야? : '))\n",
    "\n",
    "if score >= 90:\n",
    "    grade = 'A'\n",
    "elif score >= 80:\n",
    "    grade = 'B'\n",
    "elif score >= 70:\n",
    "    grade = 'C'\n",
    "elif score >= 60:\n",
    "    grade = 'D'\n",
    "else:\n",
    "    grade = 'F'\n",
    "    \n",
    "print('성적 : %d점'%score)\n",
    "print('등급 : %s'%grade)"
   ]
  }
 ],
 "metadata": {
  "kernelspec": {
   "display_name": "Python 3",
   "language": "python",
   "name": "python3"
  },
  "language_info": {
   "codemirror_mode": {
    "name": "ipython",
    "version": 3
   },
   "file_extension": ".py",
   "mimetype": "text/x-python",
   "name": "python",
   "nbconvert_exporter": "python",
   "pygments_lexer": "ipython3",
   "version": "3.7.6"
  }
 },
 "nbformat": 4,
 "nbformat_minor": 4
}
