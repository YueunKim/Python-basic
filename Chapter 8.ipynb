{
 "cells": [
  {
   "cell_type": "markdown",
   "metadata": {},
   "source": [
    "# Chapter 8. Module and package"
   ]
  },
  {
   "cell_type": "markdown",
   "metadata": {},
   "source": [
    "## Recursive calls to functions (함수의 재귀적 호출)"
   ]
  },
  {
   "cell_type": "code",
   "execution_count": 11,
   "metadata": {},
   "outputs": [],
   "source": [
    "def facto(n):\n",
    "    if n == 0:\n",
    "        return 1\n",
    "    return n * facto(n-1)"
   ]
  },
  {
   "cell_type": "code",
   "execution_count": 10,
   "metadata": {},
   "outputs": [
    {
     "name": "stdout",
     "output_type": "stream",
     "text": [
      "120\n"
     ]
    }
   ],
   "source": [
    "print(facto(5))"
   ]
  },
  {
   "cell_type": "code",
   "execution_count": 7,
   "metadata": {},
   "outputs": [],
   "source": [
    "def fibo(n):\n",
    "    if n == 1 or n == 2:\n",
    "        return 1\n",
    "    return fibo(n-1) + fibo(n-2)"
   ]
  },
  {
   "cell_type": "code",
   "execution_count": 9,
   "metadata": {},
   "outputs": [
    {
     "name": "stdout",
     "output_type": "stream",
     "text": [
      "1 1 2 3 5 8 13 21 34 55 89 144 233 377 610 987 1597 2584 4181 "
     ]
    }
   ],
   "source": [
    "for i in range(1,20):\n",
    "    print(fibo(i), end=' ')"
   ]
  },
  {
   "cell_type": "markdown",
   "metadata": {},
   "source": [
    "## Math module"
   ]
  },
  {
   "cell_type": "code",
   "execution_count": 3,
   "metadata": {},
   "outputs": [
    {
     "name": "stdout",
     "output_type": "stream",
     "text": [
      "7\n",
      "11\n",
      "9\n",
      "120\n",
      "floor(7.7) : 7\n",
      "ceil(10.1) : 11\n",
      "round(8.6) : 9\n",
      "5의팩토리얼: 120\n"
     ]
    }
   ],
   "source": [
    "# 8-4. Integer-related functions in modules\n",
    "\n",
    "import math\n",
    "\n",
    "print(math.floor(7.7))      # 7.7보다 작은 정수 중 가장 큰 정수 (소수점 이하 절삭)\n",
    "print(math.ceil(10.1))      # 10.1보다 큰 정수 중 가장 작은 정수 (무조건 올림)\n",
    "print(round(8.6))           # 8.6을 반올림\n",
    "print(math.factorial(5))    # 5 X 4 X 3 X 2 X 1\n",
    "\n",
    "\n",
    "print('floor(7.7) : %d' % math.floor(7.7)) \n",
    "print('ceil(10.1) : %d' % math.ceil(10.1)) \n",
    "print('round(8.6) : %d' % round(8.6))\n",
    "print('5의팩토리얼: %d' % math.factorial(5))"
   ]
  },
  {
   "cell_type": "code",
   "execution_count": 13,
   "metadata": {},
   "outputs": [
    {
     "name": "stdout",
     "output_type": "stream",
     "text": [
      "3.141592653589793\n",
      "1.0\n",
      "-1.0\n",
      "-2.4492935982947064e-16\n",
      "16.0\n",
      "7.0\n",
      "2.0\n",
      "sin(pi/2) : 1.00\n",
      "cos(pi) : -1.00\n",
      "tan(pi*2) : -0.00\n",
      "2의4승: 16\n",
      "49의 제곱근: 7\n",
      "log10(100) : 2.00\n"
     ]
    }
   ],
   "source": [
    "# 8-5. Trigonometric, Power, square root, log function\n",
    "\n",
    "import math as m\n",
    "print(m.pi)\n",
    "print(m.sin(m.pi/2))\n",
    "print(m.cos(m.pi))\n",
    "print(m.tan(m.pi*2))\n",
    "print(m.pow(2,4))\n",
    "print(m.sqrt(49))\n",
    "print(m.log10(100))\n",
    "\n",
    "print('sin(pi/2) : %.2f' % m.sin(m.pi/2)) \n",
    "print('cos(pi) : %.2f' % m.cos(m.pi)) \n",
    "print('tan(pi*2) : %.2f' % m.tan(m.pi*2))\n",
    "print('2의4승: %d' % m.pow(2,4)) \n",
    "print('49의 제곱근: %d' % m.sqrt(49)) \n",
    "print('log10(100) : %.2f' % m.log10(100))\n"
   ]
  },
  {
   "cell_type": "code",
   "execution_count": 14,
   "metadata": {},
   "outputs": [
    {
     "name": "stdout",
     "output_type": "stream",
     "text": [
      "3.141592653589793\n"
     ]
    }
   ],
   "source": [
    "from math import pi\n",
    "print(pi)"
   ]
  },
  {
   "cell_type": "markdown",
   "metadata": {},
   "source": [
    "## Random module"
   ]
  },
  {
   "cell_type": "code",
   "execution_count": 21,
   "metadata": {},
   "outputs": [
    {
     "name": "stdout",
     "output_type": "stream",
     "text": [
      "0.8000204571334277\n",
      "0.5329014146425713\n",
      "0.08015370917850195\n"
     ]
    }
   ],
   "source": [
    "# 8-6. random()\n",
    "\n",
    "import random\n",
    "\n",
    "for i in range(3):\n",
    "    print(random.random())    # random.random은 0과 1사이의 실수형 난수를 무작위로 발생시킴"
   ]
  },
  {
   "cell_type": "code",
   "execution_count": 19,
   "metadata": {},
   "outputs": [
    {
     "name": "stdout",
     "output_type": "stream",
     "text": [
      "0.1456692551041303\n",
      "0.45492700451402135\n",
      "0.7707838056590222\n"
     ]
    }
   ],
   "source": [
    "random.seed(100)     # random.seed는 뒤의 랜덤값을 고정적으로\n",
    "\n",
    "for i in range(3):\n",
    "    print(random.random())"
   ]
  },
  {
   "cell_type": "code",
   "execution_count": 24,
   "metadata": {},
   "outputs": [
    {
     "name": "stdout",
     "output_type": "stream",
     "text": [
      "3\n",
      "5\n",
      "5\n",
      "7\n",
      "3\n"
     ]
    }
   ],
   "source": [
    "# 8-7. randrange()\n",
    "\n",
    "import random as rd\n",
    "\n",
    "for i in range(5) : \n",
    "    print(rd.randrange(1, 11, 2))       # 1부터 11까지 2의간격으로 임의의 정수 반환"
   ]
  },
  {
   "cell_type": "code",
   "execution_count": 26,
   "metadata": {},
   "outputs": [
    {
     "name": "stdout",
     "output_type": "stream",
     "text": [
      "2\n",
      "6\n",
      "6\n",
      "1\n",
      "2\n"
     ]
    }
   ],
   "source": [
    "# 8-8. randint()\n",
    "\n",
    "import random\n",
    "\n",
    "for i in range(5) : \n",
    "    print(random.randint(1, 6))         # 1부터 6까지 임의의 정수 반환"
   ]
  },
  {
   "cell_type": "code",
   "execution_count": 30,
   "metadata": {},
   "outputs": [
    {
     "name": "stdout",
     "output_type": "stream",
     "text": [
      "바위\n",
      "보\n",
      "바위\n"
     ]
    }
   ],
   "source": [
    "# 8-9. choice()\n",
    "\n",
    "import random\n",
    "\n",
    "toss = ['가위', '바위', '보']\n",
    "\n",
    "for i in range(3) : \n",
    "    print(random.choice(toss))         # toss의 임의의 요소 하나를 반환"
   ]
  },
  {
   "cell_type": "code",
   "execution_count": 33,
   "metadata": {},
   "outputs": [
    {
     "name": "stdout",
     "output_type": "stream",
     "text": [
      "['apple', 'orange', 'banana']\n",
      "['orange', 'banana', 'apple']\n",
      "['orange', 'apple', 'banana']\n"
     ]
    }
   ],
   "source": [
    "# 8-10. shuffle()\n",
    "\n",
    "import random\n",
    "\n",
    "fruits = ['apple', 'banana', 'orange']\n",
    "\n",
    "for i in range(3) : \n",
    "    random.shuffle(fruits)           # fruits의 요소 순서를 임의로 바꿈\n",
    "    print(fruits)"
   ]
  },
  {
   "cell_type": "code",
   "execution_count": null,
   "metadata": {},
   "outputs": [
    {
     "name": "stdout",
     "output_type": "stream",
     "text": [
      "------------------------------\n",
      "주사위던지기: 1번째\n",
      "나: 3\n",
      "컴퓨터: 2\n",
      "나의승리!\n",
      "계속하려면 y를입력하세요!y\n",
      "------------------------------\n",
      "주사위던지기: 2번째\n",
      "나: 6\n",
      "컴퓨터: 6\n",
      "무승부!\n",
      "계속하려면 y를입력하세요!y\n",
      "------------------------------\n",
      "주사위던지기: 3번째\n",
      "나: 4\n",
      "컴퓨터: 5\n",
      "컴퓨터의 승리!\n"
     ]
    }
   ],
   "source": [
    "# Dice game\n",
    "\n",
    "import random\n",
    "again = 'y' \n",
    "count = 1\n",
    "while again =='y': \n",
    "    print('-' * 30) \n",
    "    print('주사위던지기: %d번째' % count) \n",
    "    me = random.randint(1, 6) \n",
    "    computer = random.randint(1, 6) \n",
    "    print('나: %d' % me ) \n",
    "    print('컴퓨터: %d' % computer)\n",
    "    \n",
    "    if me > computer : \n",
    "        print('나의승리!') \n",
    "    elif me == computer : \n",
    "        print('무승부!') \n",
    "    else : \n",
    "        print('컴퓨터의 승리!')\n",
    "    \n",
    "    count = count + 1 \n",
    "    again = input('계속하려면 y를입력하세요!')"
   ]
  },
  {
   "cell_type": "code",
   "execution_count": null,
   "metadata": {},
   "outputs": [],
   "source": [
    "# Rock Scissors Paper Game\n",
    "\n",
    "import random\n",
    "def whoWin(x, y) : \n",
    "    if x == '가위' : \n",
    "        if y == '가위' : \n",
    "            msg = '무승부입니다!' \n",
    "        elif y == '바위' : \n",
    "            msg = '당신의승리입니다!' \n",
    "        else : msg = '나의승리입니다!'\n",
    "    elif x == '바위' : \n",
    "        if y == '가위' :\n",
    "            msg = '나의승리입니다!' \n",
    "        elif y == '바위' : \n",
    "            msg = '무승부입니다!' \n",
    "        else : msg = '당신의승리입니다!‘\n",
    "    else : \n",
    "        if y == '가위' : \n",
    "            msg = '당신의승리입니다!' \n",
    "        elif y == '바위' :\n",
    "            msg = '나의승리입니다!' \n",
    "        else : \n",
    "            msg = '무승부입니다!' \n",
    "            \n",
    "    return msg\n",
    "\n",
    " print('=' * 30) \n",
    " print('가위바위보게임') \n",
    " print('=' * 30)\n",
    "\n",
    " gawibawibo = ['가위','바위', '보'] \n",
    " again = 'y'\n",
    "\n",
    " while again == 'y' : \n",
    "     me  = random.choice(gawibawibo) \n",
    "     you = random.choice(gawibawibo)\n",
    "\n",
    "     result = whoWin(me, you)\n",
    "     print('나: %s' % me) \n",
    "     print('당신: %s' % you) \n",
    "     print(result) \n",
    "     print('-' * 30)\n",
    "    \n",
    "     again = input('계속하려면 y를입력하세요!') \n",
    "     print()"
   ]
  },
  {
   "cell_type": "code",
   "execution_count": 37,
   "metadata": {},
   "outputs": [
    {
     "name": "stdout",
     "output_type": "stream",
     "text": [
      "2020-06-03 10:09:30.122356\n",
      "2020 6 3 10 9 30\n",
      "년: 2020\n",
      "월: 6\n",
      "일: 3\n",
      "시: 10\n",
      "분: 9\n",
      "초: 30\n",
      "2020/06/03 10:09:30\n",
      "20-06-03 AM 10:09\n"
     ]
    }
   ],
   "source": [
    "# 8-13. Datetime module\n",
    "\n",
    "from datetime import datetime \n",
    "today = datetime.now()\n",
    "print(today)\n",
    "print(today.year, today.month, today.day, today.hour, today.minute, today.second)\n",
    "\n",
    "print('년: %s' % today.year) \n",
    "print('월: %s' % today.month) \n",
    "print('일: %s' % today.day) \n",
    "print('시: %s' % today.hour) \n",
    "print('분: %s' % today.minute) \n",
    "print('초: %s' % today.second)\n",
    "\n",
    "print(today.strftime('%Y/%m/%d %H:%M:%S')) \n",
    "print(today.strftime('%y-%m-%d %p %I:%M'))"
   ]
  },
  {
   "cell_type": "markdown",
   "metadata": {},
   "source": [
    "## Make module"
   ]
  },
  {
   "cell_type": "code",
   "execution_count": 2,
   "metadata": {},
   "outputs": [
    {
     "name": "stdout",
     "output_type": "stream",
     "text": [
      "김철님안녕하세요.\n",
      "송은영님반갑습니다.\n",
      "김유은님만나서 반가워요.\n"
     ]
    }
   ],
   "source": [
    "# Chapter8greet.py 생성 후\n",
    "\n",
    "import Chapter8greet as greet\n",
    "\n",
    "print(greet.hello1('김철')) \n",
    "print(greet.hello2('송은영')) \n",
    "print(greet.hello3('김유은'))"
   ]
  },
  {
   "cell_type": "code",
   "execution_count": 3,
   "metadata": {},
   "outputs": [
    {
     "name": "stdout",
     "output_type": "stream",
     "text": [
      "1, 1\n",
      "2, 1\n",
      "6, 2\n",
      "24, 3\n",
      "120, 5\n",
      "720, 8\n",
      "5040, 13\n",
      "40320, 21\n",
      "362880, 34\n",
      "3628800, 55\n"
     ]
    }
   ],
   "source": [
    "# Chapter8util.py 생성 후\n",
    "\n",
    "import Chapter8util as my_util\n",
    "\n",
    "for i in range(1, 11):\n",
    "    print(my_util.facto(i), end=', ')\n",
    "    print(my_util.fibo(i))"
   ]
  }
 ],
 "metadata": {
  "kernelspec": {
   "display_name": "Python 3",
   "language": "python",
   "name": "python3"
  },
  "language_info": {
   "codemirror_mode": {
    "name": "ipython",
    "version": 3
   },
   "file_extension": ".py",
   "mimetype": "text/x-python",
   "name": "python",
   "nbconvert_exporter": "python",
   "pygments_lexer": "ipython3",
   "version": "3.7.6"
  }
 },
 "nbformat": 4,
 "nbformat_minor": 4
}
