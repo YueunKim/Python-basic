{
 "cells": [
  {
   "cell_type": "markdown",
   "metadata": {},
   "source": [
    "# Naver 영화 네티즌 평점 수집 - 나이트크롤러, 2020"
   ]
  },
  {
   "cell_type": "code",
   "execution_count": 1,
   "metadata": {},
   "outputs": [],
   "source": [
    "from bs4 import BeautifulSoup \n",
    "from urllib.request import urlopen"
   ]
  },
  {
   "cell_type": "code",
   "execution_count": 3,
   "metadata": {},
   "outputs": [],
   "source": [
    "url_base = 'https://movie.naver.com'\n",
    "url_sub = '/movie/bi/mi/point.nhn?code=117786'\n",
    "html = urlopen(url_base + url_sub)\n",
    "soup = BeautifulSoup(html, 'html.parser')"
   ]
  },
  {
   "cell_type": "code",
   "execution_count": 4,
   "metadata": {},
   "outputs": [
    {
     "data": {
      "text/plain": [
       "'/movie/bi/mi/pointWriteFormList.nhn?code=117786&type=after&isActualPointWriteExecute=false&isMileageSubscriptionAlready=false&isMileageSubscriptionReject=false'"
      ]
     },
     "execution_count": 4,
     "metadata": {},
     "output_type": "execute_result"
    }
   ],
   "source": [
    "ifr_url = soup.find('iframe')['src']\n",
    "ifr_url"
   ]
  },
  {
   "cell_type": "code",
   "execution_count": 5,
   "metadata": {},
   "outputs": [],
   "source": [
    "url = url_base + ifr_url\n",
    "html = urlopen(url)\n",
    "soup = BeautifulSoup(html, 'html.parser')"
   ]
  },
  {
   "cell_type": "code",
   "execution_count": 6,
   "metadata": {},
   "outputs": [
    {
     "data": {
      "text/plain": [
       "<strong class=\"total\">관람객 평점 <em>1,049</em>건<button class=\"btn_review\" id=\"open-form-btn\">내 평점 등록</button></strong>"
      ]
     },
     "execution_count": 6,
     "metadata": {},
     "output_type": "execute_result"
    }
   ],
   "source": [
    "count = soup.find('strong', 'total')\n",
    "count"
   ]
  },
  {
   "cell_type": "code",
   "execution_count": 7,
   "metadata": {},
   "outputs": [
    {
     "data": {
      "text/plain": [
       "'1,049'"
      ]
     },
     "execution_count": 7,
     "metadata": {},
     "output_type": "execute_result"
    }
   ],
   "source": [
    "count = count.find('em').string     # get_text() 대신에 string\n",
    "count"
   ]
  },
  {
   "cell_type": "code",
   "execution_count": 8,
   "metadata": {},
   "outputs": [
    {
     "data": {
      "text/plain": [
       "1049"
      ]
     },
     "execution_count": 8,
     "metadata": {},
     "output_type": "execute_result"
    }
   ],
   "source": [
    "count = int(count.replace(',',''))\n",
    "count"
   ]
  },
  {
   "cell_type": "code",
   "execution_count": 9,
   "metadata": {},
   "outputs": [
    {
     "data": {
      "text/plain": [
       "105"
      ]
     },
     "execution_count": 9,
     "metadata": {},
     "output_type": "execute_result"
    }
   ],
   "source": [
    "import math\n",
    "total_page = math.ceil(count/10)\n",
    "total_page"
   ]
  },
  {
   "cell_type": "code",
   "execution_count": 10,
   "metadata": {},
   "outputs": [
    {
     "name": "stdout",
     "output_type": "stream",
     "text": [
      "1 2 3 4 5 6 7 8 9 10 11 12 13 14 15 16 17 18 19 20 21 22 23 24 25 26 27 28 29 30 31 32 33 34 35 36 37 38 39 40 41 42 43 44 45 46 47 48 49 50 51 52 53 54 55 56 57 58 59 60 61 62 63 64 65 66 67 68 69 70 71 72 73 74 75 76 77 78 79 80 81 82 83 84 85 86 87 88 89 90 91 92 93 94 95 96 97 98 99 100 101 102 103 104 105 "
     ]
    }
   ],
   "source": [
    "point = []\n",
    "review = []\n",
    "date = []\n",
    "for page in range(1, total_page+1):\n",
    "    print(page, end=' ')\n",
    "    url = url_base + ifr_url + '&page=' + str(page)\n",
    "    html = urlopen(url)\n",
    "    soup = BeautifulSoup(html, 'html.parser')\n",
    "    result = soup.find(class_='score_result')\n",
    "    lis = result.find_all('li')\n",
    "    for li in lis:\n",
    "        score = li.find(class_='star_score').find('em').get_text()\n",
    "        score = int(score)\n",
    "        point.append(score)\n",
    "        count_span = len(li.find(class_='score_reple').find(class_='').find_all('span'))\n",
    "        count_icon = len(li.find_all(class_='ico_viewer'))\n",
    "        count_spo = len(li.find_all(class_='text_spo'))\n",
    "        criteria = str(count_span) + str(count_icon) + str(count_spo)\n",
    "        #print(criteria)\n",
    "        if criteria == '100':\n",
    "            r = li.find(class_='score_reple').find('span').string.strip(' \\t\\r\\n')\n",
    "        elif criteria == '200':\n",
    "            r = li.find(class_='score_reple').find('a')['data-src']\n",
    "        elif criteria == '210':\n",
    "            r = li.find(class_='score_reple').find_all('span')[1].string.strip(' \\t\\r\\n')\n",
    "        elif criteria == '310':\n",
    "            r = li.find(class_='score_reple').find('a')['data-src']\n",
    "        elif criteria == '311':\n",
    "            r = li.find(class_='score_reple').find_all('span')[2].string.strip(' \\t\\r\\n')\n",
    "        elif criteria == '201':\n",
    "            r = li.find(class_='score_reple').find_all('span')[1].string.strip(' \\t\\r\\n')\n",
    "\n",
    "        review.append(r)\n",
    "        date.append(li.find(class_='score_reple').find_all('em')[1].get_text())"
   ]
  },
  {
   "cell_type": "code",
   "execution_count": 11,
   "metadata": {},
   "outputs": [
    {
     "data": {
      "text/html": [
       "<div>\n",
       "<style scoped>\n",
       "    .dataframe tbody tr th:only-of-type {\n",
       "        vertical-align: middle;\n",
       "    }\n",
       "\n",
       "    .dataframe tbody tr th {\n",
       "        vertical-align: top;\n",
       "    }\n",
       "\n",
       "    .dataframe thead th {\n",
       "        text-align: right;\n",
       "    }\n",
       "</style>\n",
       "<table border=\"1\" class=\"dataframe\">\n",
       "  <thead>\n",
       "    <tr style=\"text-align: right;\">\n",
       "      <th></th>\n",
       "      <th>평점</th>\n",
       "      <th>일시</th>\n",
       "      <th>감상평</th>\n",
       "    </tr>\n",
       "  </thead>\n",
       "  <tbody>\n",
       "    <tr>\n",
       "      <th>1039</th>\n",
       "      <td>3</td>\n",
       "      <td>2015.02.28 00:14</td>\n",
       "      <td>뻔하고 지루하기까지 하면 무슨 말이 더 필요해?</td>\n",
       "    </tr>\n",
       "    <tr>\n",
       "      <th>1040</th>\n",
       "      <td>1</td>\n",
       "      <td>2018.12.16 23:37</td>\n",
       "      <td>눈빛부터 맛이 갔네 수많은 성공한 사람들이 저런 과정을 거쳐왔게지? 어이가 없다 결...</td>\n",
       "    </tr>\n",
       "    <tr>\n",
       "      <th>1041</th>\n",
       "      <td>1</td>\n",
       "      <td>2016.02.20 19:36</td>\n",
       "      <td>평론가 평점이 높다 이건 안봐야겠다</td>\n",
       "    </tr>\n",
       "    <tr>\n",
       "      <th>1042</th>\n",
       "      <td>2</td>\n",
       "      <td>2015.03.01 10:41</td>\n",
       "      <td>평점에낚임..다알바여무슨 노잼..</td>\n",
       "    </tr>\n",
       "    <tr>\n",
       "      <th>1043</th>\n",
       "      <td>1</td>\n",
       "      <td>2015.03.03 00:21</td>\n",
       "      <td>그냥재미없음 지루하고</td>\n",
       "    </tr>\n",
       "    <tr>\n",
       "      <th>1044</th>\n",
       "      <td>3</td>\n",
       "      <td>2015.02.26 20:21</td>\n",
       "      <td>진심 무슨다큐멘터리보는줄알앗음..태어나서평점처음씀</td>\n",
       "    </tr>\n",
       "    <tr>\n",
       "      <th>1045</th>\n",
       "      <td>1</td>\n",
       "      <td>2015.02.27 22:35</td>\n",
       "      <td>내평점 여기 리뷰쓴 사람들은 다들 영화에 조예가 깊나보네여평점보고 영화봣는데 망함ㅋ...</td>\n",
       "    </tr>\n",
       "    <tr>\n",
       "      <th>1046</th>\n",
       "      <td>1</td>\n",
       "      <td>2015.02.26 21:27</td>\n",
       "      <td>너무 재미없다 무슨 얘기를 하려는건지 명확하지 못하고 산만해</td>\n",
       "    </tr>\n",
       "    <tr>\n",
       "      <th>1047</th>\n",
       "      <td>1</td>\n",
       "      <td>2015.05.16 11:19</td>\n",
       "      <td>핵노잼입니다절대보지마세요</td>\n",
       "    </tr>\n",
       "    <tr>\n",
       "      <th>1048</th>\n",
       "      <td>1</td>\n",
       "      <td>2015.03.02 21:10</td>\n",
       "      <td>보다나왓다 개지루함ㅋㅋ</td>\n",
       "    </tr>\n",
       "  </tbody>\n",
       "</table>\n",
       "</div>"
      ],
      "text/plain": [
       "      평점                일시                                                감상평\n",
       "1039   3  2015.02.28 00:14                         뻔하고 지루하기까지 하면 무슨 말이 더 필요해?\n",
       "1040   1  2018.12.16 23:37  눈빛부터 맛이 갔네 수많은 성공한 사람들이 저런 과정을 거쳐왔게지? 어이가 없다 결...\n",
       "1041   1  2016.02.20 19:36                                평론가 평점이 높다 이건 안봐야겠다\n",
       "1042   2  2015.03.01 10:41                                 평점에낚임..다알바여무슨 노잼..\n",
       "1043   1  2015.03.03 00:21                                        그냥재미없음 지루하고\n",
       "1044   3  2015.02.26 20:21                        진심 무슨다큐멘터리보는줄알앗음..태어나서평점처음씀\n",
       "1045   1  2015.02.27 22:35  내평점 여기 리뷰쓴 사람들은 다들 영화에 조예가 깊나보네여평점보고 영화봣는데 망함ㅋ...\n",
       "1046   1  2015.02.26 21:27                  너무 재미없다 무슨 얘기를 하려는건지 명확하지 못하고 산만해\n",
       "1047   1  2015.05.16 11:19                                      핵노잼입니다절대보지마세요\n",
       "1048   1  2015.03.02 21:10                                       보다나왓다 개지루함ㅋㅋ"
      ]
     },
     "execution_count": 11,
     "metadata": {},
     "output_type": "execute_result"
    }
   ],
   "source": [
    "import pandas as pd\n",
    "df = pd.DataFrame({'평점':point, '일시':date, '감상평':review})\n",
    "df.tail(10)"
   ]
  },
  {
   "cell_type": "code",
   "execution_count": 13,
   "metadata": {},
   "outputs": [],
   "source": [
    "df.to_csv('Nightcrawler.csv')"
   ]
  },
  {
   "cell_type": "code",
   "execution_count": 14,
   "metadata": {},
   "outputs": [
    {
     "data": {
      "text/plain": [
       "1049"
      ]
     },
     "execution_count": 14,
     "metadata": {},
     "output_type": "execute_result"
    }
   ],
   "source": [
    "len(df)"
   ]
  }
 ],
 "metadata": {
  "kernelspec": {
   "display_name": "Python 3",
   "language": "python",
   "name": "python3"
  },
  "language_info": {
   "codemirror_mode": {
    "name": "ipython",
    "version": 3
   },
   "file_extension": ".py",
   "mimetype": "text/x-python",
   "name": "python",
   "nbconvert_exporter": "python",
   "pygments_lexer": "ipython3",
   "version": "3.7.6"
  }
 },
 "nbformat": 4,
 "nbformat_minor": 4
}
