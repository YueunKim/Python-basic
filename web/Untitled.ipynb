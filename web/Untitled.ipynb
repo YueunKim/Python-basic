{
 "cells": [
  {
   "cell_type": "code",
   "execution_count": 1,
   "metadata": {},
   "outputs": [],
   "source": [
    "from bs4 import BeautifulSoup\n",
    "from urllib.request import urlopen  "
   ]
  },
  {
   "cell_type": "code",
   "execution_count": 27,
   "metadata": {},
   "outputs": [],
   "source": [
    "url_base = 'https://www.menupan.com'\n",
    "url_sub = '/search/restaurant/restaurant_result.asp?sc=basicdata&kw=%B4%EB%C8%EF%B5%BF'\n",
    "url = url_base + url_sub\n",
    "\n",
    "html = urlopen(url)\n",
    "soup = BeautifulSoup(html, 'html.parser')"
   ]
  },
  {
   "cell_type": "code",
   "execution_count": 30,
   "metadata": {},
   "outputs": [
    {
     "data": {
      "text/plain": [
       "[<li>\n",
       " <div class=\"imgDiv\">\n",
       " <a href=\"/Restaurant/Onepage.asp?acode=H302213\" target=\"_blank\"><img class=\"thumb\" height=\"70px\" src=\"/restaurant/restimg/003/ssimg/h302213a_s.jpg\" width=\"70px\"/></a><span class=\"btn\"><img alt=\"더보기\" onmouseout=\"imgmore('H302213_imgview',0);\" onmouseover=\"imgmore('H302213_imgview',1);\" src=\"/IMAGE/Search/ico_plus.gif\" style=\"cursor:hand\"/></span>\n",
       " </div>\n",
       " <dl>\n",
       " <dt>\n",
       " <!--[16].rankscore=9 , rest_value=50-->\n",
       " <a href=\"/Restaurant/Onepage.asp?acode=H302213\" target=\"_blank\">내집식당</a></dt>\n",
       " <dd class=\"sum3\"><span class=\"part\">한식&gt;일반한식 |</span>올갱이국, 올갱이무침, 두부두루치기(소)</dd>\n",
       " <dd class=\"sum\">대전 중구 <strong><strong>대흥동</strong></strong> 409-7 | 042-223-5083 | 추천맛집 0개 | 할인정보 : (11:30~14:..</dd>\n",
       " </dl>\n",
       " </li>,\n",
       " <li>\n",
       " <div class=\"imgDiv\">\n",
       " <a href=\"/Restaurant/Onepage.asp?acode=H302353\" target=\"_blank\"><img class=\"thumb\" height=\"70px\" src=\"/restaurant/restimg/003/ssimg/h302353a_s.jpg\" width=\"70px\"/></a><span class=\"btn\"><img alt=\"더보기\" onmouseout=\"imgmore('H302353_imgview',0);\" onmouseover=\"imgmore('H302353_imgview',1);\" src=\"/IMAGE/Search/ico_plus.gif\" style=\"cursor:hand\"/></span>\n",
       " </div>\n",
       " <dl>\n",
       " <dt>\n",
       " <!--[24].rankscore=4 , rest_value=50-->\n",
       " <a href=\"/Restaurant/Onepage.asp?acode=H302353\" target=\"_blank\">오복갈비</a></dt>\n",
       " <dd class=\"sum3\"><span class=\"part\">한식&gt;갈비 |</span>생갈비(1인분 200g), 소갈비살(1인분 200g), 돼지갈비(1인분 200g)</dd>\n",
       " <dd class=\"sum\">충남 천안시 동남구 <strong><strong>대흥동</strong></strong> 63-56 | 041-562-8134 | 추천맛집 0개 | 할인정보 : 고기주문시소주or맥..</dd>\n",
       " </dl>\n",
       " </li>,\n",
       " <li>\n",
       " <div class=\"imgDiv\">\n",
       " <a href=\"/Restaurant/Onepage.asp?acode=C500057\" target=\"_blank\"><img class=\"thumb\" height=\"70px\" src=\"/restaurant/restimg/007/ssimg/c500057a_s.jpg\" width=\"70px\"/></a><span class=\"btn\"><img alt=\"더보기\" onmouseout=\"imgmore('C500057_imgview',0);\" onmouseover=\"imgmore('C500057_imgview',1);\" src=\"/IMAGE/Search/ico_plus.gif\" style=\"cursor:hand\"/></span>\n",
       " </div>\n",
       " <dl>\n",
       " <dt>\n",
       " <!--[25].rankscore=4 , rest_value=25-->\n",
       " <a href=\"/Restaurant/Onepage.asp?acode=C500057\" target=\"_blank\">대흥각</a></dt>\n",
       " <dd class=\"sum3\"><span class=\"part\">중식 |</span>육미짜장, 고추짬뽕, 탕수육</dd>\n",
       " <dd class=\"sum\">전북 김제시 요촌동 182-52 | 063-547-5886 | 추천맛집 1개</dd>\n",
       " </dl>\n",
       " </li>,\n",
       " <li>\n",
       " <div class=\"imgDiv\">\n",
       " <a href=\"/Restaurant/Onepage.asp?acode=H302607\" target=\"_blank\"><img class=\"thumb\" height=\"70px\" src=\"/restaurant/restimg/007/ssimg/h302607a_s.jpg\" width=\"70px\"/></a><span class=\"btn\"><img alt=\"더보기\" onmouseout=\"imgmore('H302607_imgview',0);\" onmouseover=\"imgmore('H302607_imgview',1);\" src=\"/IMAGE/Search/ico_plus.gif\" style=\"cursor:hand\"/></span>\n",
       " </div>\n",
       " <dl>\n",
       " <dt>\n",
       " <!--[3].rankscore=15 , rest_value=0-->\n",
       " <a href=\"/Restaurant/Onepage.asp?acode=H302607\" target=\"_blank\">스마일칼국수</a></dt>\n",
       " <dd class=\"sum3\"><span class=\"part\">한식 |</span>손칼국수, 김밥, 수육</dd>\n",
       " <dd class=\"sum\">대전 중구 <strong><strong>대흥동</strong></strong> 440-1 | 042-221-1845 | 추천맛집 0개</dd>\n",
       " </dl>\n",
       " </li>,\n",
       " <li>\n",
       " <div class=\"imgDiv\">\n",
       " <a href=\"/Restaurant/Onepage.asp?acode=H120059\" target=\"_blank\"><img class=\"thumb\" height=\"70px\" src=\"/restaurant/restimg/009/ssimg/h120059a_s.jpg\" width=\"70px\"/></a><span class=\"btn\"><img alt=\"더보기\" onmouseout=\"imgmore('H120059_imgview',0);\" onmouseover=\"imgmore('H120059_imgview',1);\" src=\"/IMAGE/Search/ico_plus.gif\" style=\"cursor:hand\"/></span>\n",
       " </div>\n",
       " <dl>\n",
       " <dt>\n",
       " <!--[4].rankscore=13 , rest_value=0-->\n",
       " <a href=\"/Restaurant/Onepage.asp?acode=H120059\" target=\"_blank\">대흥(구 대흥뚝배기)</a></dt>\n",
       " <dd class=\"sum3\"><span class=\"part\">한식&gt;찌개전문 |</span>계란후라이, 오징어볶음, 등심돈까스</dd>\n",
       " <dd class=\"sum\">서울 서대문구 대현동 56-33 | 02-365-4702 | 추천맛집 0개</dd>\n",
       " </dl>\n",
       " </li>,\n",
       " <li>\n",
       " <div class=\"imgDiv\">\n",
       " <a href=\"/Restaurant/Onepage.asp?acode=C200049\" target=\"_blank\"><img class=\"thumb\" height=\"70px\" src=\"/restaurant/restimg/009/ssimg/c200049a_s.jpg\" width=\"70px\"/></a><span class=\"btn\"><img alt=\"더보기\" onmouseout=\"imgmore('C200049_imgview',0);\" onmouseover=\"imgmore('C200049_imgview',1);\" src=\"/IMAGE/Search/ico_plus.gif\" style=\"cursor:hand\"/></span>\n",
       " </div>\n",
       " <dl>\n",
       " <dt>\n",
       " <!--[5].rankscore=13 , rest_value=0-->\n",
       " <a href=\"/Restaurant/Onepage.asp?acode=C200049\" target=\"_blank\">대흥반점</a></dt>\n",
       " <dd class=\"sum3\"><span class=\"part\">중식&gt;일반 |</span>짬뽕, 볶음밥, 탕수육</dd>\n",
       " <dd class=\"sum\">강원 양양군 양양읍 남문3리 238-6 | 033-671-8088 | 추천맛집 0개</dd>\n",
       " </dl>\n",
       " </li>,\n",
       " <li>\n",
       " <div class=\"imgDiv\">\n",
       " <a href=\"/Restaurant/Onepage.asp?acode=H302391\" target=\"_blank\"><img class=\"thumb\" height=\"70px\" src=\"/restaurant/restimg/001/ssimg/h302391a_s.jpg\" width=\"70px\"/></a><span class=\"btn\"><img alt=\"더보기\" onmouseout=\"imgmore('H302391_imgview',0);\" onmouseover=\"imgmore('H302391_imgview',1);\" src=\"/IMAGE/Search/ico_plus.gif\" style=\"cursor:hand\"/></span>\n",
       " </div>\n",
       " <dl>\n",
       " <dt>\n",
       " <!--[6].rankscore=13 , rest_value=0-->\n",
       " <a href=\"/Restaurant/Onepage.asp?acode=H302391\" target=\"_blank\">진로집</a></dt>\n",
       " <dd class=\"sum3\"><span class=\"part\">한식&gt;일반한식 |</span>두부두루치기 (大), 오징어볶음, 수육 (大)</dd>\n",
       " <dd class=\"sum\">대전 중구 <strong><strong>대흥동</strong></strong> 314-1 | 042-226-0914 | 추천맛집 3개</dd>\n",
       " </dl>\n",
       " </li>,\n",
       " <li>\n",
       " <div class=\"imgDiv\">\n",
       " <a href=\"/Restaurant/Onepage.asp?acode=T300114\" target=\"_blank\"><img class=\"thumb\" height=\"70px\" src=\"/restaurant/restimg/004/ssimg/t300114a_s.jpg\" width=\"70px\"/></a><span class=\"btn\"><img alt=\"더보기\" onmouseout=\"imgmore('T300114_imgview',0);\" onmouseover=\"imgmore('T300114_imgview',1);\" src=\"/IMAGE/Search/ico_plus.gif\" style=\"cursor:hand\"/></span>\n",
       " </div>\n",
       " <dl>\n",
       " <dt>\n",
       " <!--[7].rankscore=12 , rest_value=0-->\n",
       " <a href=\"/Restaurant/Onepage.asp?acode=T300114\" target=\"_blank\">마운틴피시텔</a></dt>\n",
       " <dd class=\"sum3\"><span class=\"part\">기타/세계 |</span>치킨 칠리커리, 플레인 라씨, 탄두리치킨(half)</dd>\n",
       " <dd class=\"sum\">충남 천안시 동남구 <strong><strong>대흥동</strong></strong> 95 2층 | 041-555-3612 | 추천맛집 0개</dd>\n",
       " </dl>\n",
       " </li>,\n",
       " <li>\n",
       " <div class=\"imgDiv\">\n",
       " <a href=\"/Restaurant/Onepage.asp?acode=H120924\" target=\"_blank\"><img class=\"thumb\" height=\"70px\" src=\"/restaurant/restimg/004/ssimg/h120924a_s.jpg\" width=\"70px\"/></a><span class=\"btn\"><img alt=\"더보기\" onmouseout=\"imgmore('H120924_imgview',0);\" onmouseover=\"imgmore('H120924_imgview',1);\" src=\"/IMAGE/Search/ico_plus.gif\" style=\"cursor:hand\"/></span>\n",
       " </div>\n",
       " <dl>\n",
       " <dt>\n",
       " <!--[8].rankscore=11 , rest_value=0-->\n",
       " <a href=\"/Restaurant/Onepage.asp?acode=H120924\" target=\"_blank\">대흥정육식당</a></dt>\n",
       " <dd class=\"sum3\"><span class=\"part\">한식&gt;생고기/등심 |</span>생삼겹살, 생목살, 냉면</dd>\n",
       " <dd class=\"sum\">서울 용산구 이태원동 127-31 | 02-790-8588 | 추천맛집 0개</dd>\n",
       " </dl>\n",
       " </li>,\n",
       " <li>\n",
       " <div class=\"imgDiv\">\n",
       " <a href=\"/Restaurant/Onepage.asp?acode=H302595\" target=\"_blank\"><img class=\"thumb\" height=\"70px\" src=\"/restaurant/restimg/005/ssimg/h302595a_s.jpg\" width=\"70px\"/></a><span class=\"btn\"><img alt=\"더보기\" onmouseout=\"imgmore('H302595_imgview',0);\" onmouseover=\"imgmore('H302595_imgview',1);\" src=\"/IMAGE/Search/ico_plus.gif\" style=\"cursor:hand\"/></span>\n",
       " </div>\n",
       " <dl>\n",
       " <dt>\n",
       " <!--[9].rankscore=11 , rest_value=0-->\n",
       " <a href=\"/Restaurant/Onepage.asp?acode=H302595\" target=\"_blank\">화성식당</a></dt>\n",
       " <dd class=\"sum3\"><span class=\"part\">한식&gt;일반한식 |</span>된장찌개, 제육볶음, 삼겹살(200g)</dd>\n",
       " <dd class=\"sum\">충남 천안시 동남구 <strong><strong>대흥동</strong></strong> 85 | 041-552-8934 | 추천맛집 0개</dd>\n",
       " </dl>\n",
       " </li>,\n",
       " <li>\n",
       " <div class=\"imgDiv\">\n",
       " <a href=\"/Restaurant/Onepage.asp?acode=H302251\" target=\"_blank\"><img class=\"thumb\" height=\"70px\" src=\"/restaurant/restimg/001/ssimg/h302251a_s.jpg\" width=\"70px\"/></a><span class=\"btn\"><img alt=\"더보기\" onmouseout=\"imgmore('H302251_imgview',0);\" onmouseover=\"imgmore('H302251_imgview',1);\" src=\"/IMAGE/Search/ico_plus.gif\" style=\"cursor:hand\"/></span>\n",
       " </div>\n",
       " <dl>\n",
       " <dt>\n",
       " <!--[10].rankscore=11 , rest_value=0-->\n",
       " <a href=\"/Restaurant/Onepage.asp?acode=H302251\" target=\"_blank\">영희네매운갈비찜</a></dt>\n",
       " <dd class=\"sum3\"><span class=\"part\">한식&gt;갈비 |</span>매운갈비찜, 후라이, 야채볶음밥</dd>\n",
       " <dd class=\"sum\">대전 중구 <strong><strong>대흥동</strong></strong> 248 | 042-223-0155 | 추천맛집 0개</dd>\n",
       " </dl>\n",
       " </li>,\n",
       " <li>\n",
       " <div class=\"imgDiv\">\n",
       " <a href=\"/Restaurant/Onepage.asp?acode=T300107\" target=\"_blank\"><img class=\"thumb\" height=\"70px\" src=\"/restaurant/restimg/007/ssimg/t300107a_s.jpg\" width=\"70px\"/></a><span class=\"btn\"><img alt=\"더보기\" onmouseout=\"imgmore('T300107_imgview',0);\" onmouseover=\"imgmore('T300107_imgview',1);\" src=\"/IMAGE/Search/ico_plus.gif\" style=\"cursor:hand\"/></span>\n",
       " </div>\n",
       " <dl>\n",
       " <dt>\n",
       " <!--[11].rankscore=11 , rest_value=0-->\n",
       " <a href=\"/Restaurant/Onepage.asp?acode=T300107\" target=\"_blank\">뉴타지마할</a></dt>\n",
       " <dd class=\"sum3\"><span class=\"part\">기타/세계&gt;동남아음식 |</span>타지마할 세트, 갈릭 난, 탄두리 치킨 반마리</dd>\n",
       " <dd class=\"sum\">충남 천안시 동남구 <strong><strong>대흥동</strong></strong> 75 2F | 041-567-6123 | 추천맛집 0개</dd>\n",
       " </dl>\n",
       " </li>,\n",
       " <li>\n",
       " <div class=\"imgDiv\">\n",
       " <a href=\"/Restaurant/Onepage.asp?acode=G300085\" target=\"_blank\"><img class=\"thumb\" height=\"70px\" src=\"/restaurant/restimg/005/ssimg/g300085a_s.jpg\" width=\"70px\"/></a><span class=\"btn\"><img alt=\"더보기\" onmouseout=\"imgmore('G300085_imgview',0);\" onmouseover=\"imgmore('G300085_imgview',1);\" src=\"/IMAGE/Search/ico_plus.gif\" style=\"cursor:hand\"/></span>\n",
       " </div>\n",
       " <dl>\n",
       " <dt>\n",
       " <!--[12].rankscore=11 , rest_value=0-->\n",
       " <a href=\"/Restaurant/Onepage.asp?acode=G300085\" target=\"_blank\">태극당</a></dt>\n",
       " <dd class=\"sum3\"><span class=\"part\">베이커리 |</span>생도너츠, 카스테라, 호두과자20개(소)</dd>\n",
       " <dd class=\"sum\">충남 천안시 동남구 <strong><strong>대흥동</strong></strong> 125 | 041-551-7330 | 추천맛집 0개</dd>\n",
       " </dl>\n",
       " </li>,\n",
       " <li>\n",
       " <div class=\"imgDiv\">\n",
       " <a href=\"/Restaurant/Onepage.asp?acode=G300086\" target=\"_blank\"><img class=\"thumb\" height=\"70px\" src=\"/restaurant/restimg/006/ssimg/g300086a_s.jpg\" width=\"70px\"/></a><span class=\"btn\"><img alt=\"더보기\" onmouseout=\"imgmore('G300086_imgview',0);\" onmouseover=\"imgmore('G300086_imgview',1);\" src=\"/IMAGE/Search/ico_plus.gif\" style=\"cursor:hand\"/></span>\n",
       " </div>\n",
       " <dl>\n",
       " <dt>\n",
       " <!--[13].rankscore=11 , rest_value=0-->\n",
       " <a href=\"/Restaurant/Onepage.asp?acode=G300086\" target=\"_blank\">옛날호두과자 본점</a></dt>\n",
       " <dd class=\"sum3\"><span class=\"part\">베이커리 |</span>튀김소보로호두과자 1개입, 아메리카노(HOT), 카페모카(HOT)</dd>\n",
       " <dd class=\"sum\">충남 천안시 동남구 <strong><strong>대흥동</strong></strong> 57-2 | 041-561-5000 | 추천맛집 0개</dd>\n",
       " </dl>\n",
       " </li>,\n",
       " <li>\n",
       " <div class=\"imgDiv\">\n",
       " <a href=\"/Restaurant/Onepage.asp?acode=B300023\" target=\"_blank\"><img class=\"thumb\" height=\"70px\" src=\"/restaurant/restimg/003/ssimg/b300023a_s.jpg\" width=\"70px\"/></a><span class=\"btn\"><img alt=\"더보기\" onmouseout=\"imgmore('B300023_imgview',0);\" onmouseover=\"imgmore('B300023_imgview',1);\" src=\"/IMAGE/Search/ico_plus.gif\" style=\"cursor:hand\"/></span>\n",
       " </div>\n",
       " <dl>\n",
       " <dt>\n",
       " <!--[14].rankscore=10 , rest_value=0-->\n",
       " <a href=\"/Restaurant/Onepage.asp?acode=B300023\" target=\"_blank\">할범탕수육 천안역점</a></dt>\n",
       " <dd class=\"sum3\"><span class=\"part\">분식 |</span>새우(4개), 할범탕수육, 할범잔치국수</dd>\n",
       " <dd class=\"sum\">충남 천안시 동남구 <strong><strong>대흥동</strong></strong> 57-63 | 041-552-1170 | 추천맛집 0개</dd>\n",
       " </dl>\n",
       " </li>]"
      ]
     },
     "execution_count": 30,
     "metadata": {},
     "output_type": "execute_result"
    }
   ],
   "source": [
    "rest_list = soup.find(class_='listStyle3').find_all('li')\n",
    "rest_list"
   ]
  },
  {
   "cell_type": "code",
   "execution_count": 32,
   "metadata": {},
   "outputs": [
    {
     "data": {
      "text/plain": [
       "<li>\n",
       "<div class=\"imgDiv\">\n",
       "<a href=\"/Restaurant/Onepage.asp?acode=H302213\" target=\"_blank\"><img class=\"thumb\" height=\"70px\" src=\"/restaurant/restimg/003/ssimg/h302213a_s.jpg\" width=\"70px\"/></a><span class=\"btn\"><img alt=\"더보기\" onmouseout=\"imgmore('H302213_imgview',0);\" onmouseover=\"imgmore('H302213_imgview',1);\" src=\"/IMAGE/Search/ico_plus.gif\" style=\"cursor:hand\"/></span>\n",
       "</div>\n",
       "<dl>\n",
       "<dt>\n",
       "<!--[16].rankscore=9 , rest_value=50-->\n",
       "<a href=\"/Restaurant/Onepage.asp?acode=H302213\" target=\"_blank\">내집식당</a></dt>\n",
       "<dd class=\"sum3\"><span class=\"part\">한식&gt;일반한식 |</span>올갱이국, 올갱이무침, 두부두루치기(소)</dd>\n",
       "<dd class=\"sum\">대전 중구 <strong><strong>대흥동</strong></strong> 409-7 | 042-223-5083 | 추천맛집 0개 | 할인정보 : (11:30~14:..</dd>\n",
       "</dl>\n",
       "</li>"
      ]
     },
     "execution_count": 32,
     "metadata": {},
     "output_type": "execute_result"
    }
   ],
   "source": [
    "li = rest_list[0]\n",
    "li"
   ]
  },
  {
   "cell_type": "code",
   "execution_count": 34,
   "metadata": {},
   "outputs": [
    {
     "data": {
      "text/plain": [
       "'내집식당'"
      ]
     },
     "execution_count": 34,
     "metadata": {},
     "output_type": "execute_result"
    }
   ],
   "source": [
    "li.find_all('a')[1].get_text()"
   ]
  },
  {
   "cell_type": "code",
   "execution_count": 35,
   "metadata": {},
   "outputs": [
    {
     "data": {
      "text/plain": [
       "'한식>일반한식 |올갱이국, 올갱이무침, 두부두루치기(소)'"
      ]
     },
     "execution_count": 35,
     "metadata": {},
     "output_type": "execute_result"
    }
   ],
   "source": [
    "li.find_all('dd')[0].get_text()"
   ]
  },
  {
   "cell_type": "code",
   "execution_count": 39,
   "metadata": {},
   "outputs": [],
   "source": [
    "tmp_str = li.find(class_='sum3').get_text()\n",
    "tmp_str1 = tmp_str.split('|')"
   ]
  },
  {
   "cell_type": "code",
   "execution_count": 40,
   "metadata": {},
   "outputs": [
    {
     "data": {
      "text/plain": [
       "['한식>일반한식 ', '올갱이국, 올갱이무침, 두부두루치기(소)']"
      ]
     },
     "execution_count": 40,
     "metadata": {},
     "output_type": "execute_result"
    }
   ],
   "source": [
    "tmp_str1"
   ]
  },
  {
   "cell_type": "code",
   "execution_count": 42,
   "metadata": {},
   "outputs": [
    {
     "data": {
      "text/plain": [
       "'대전 중구 대흥동 409-7 | 042-223-5083 | 추천맛집 0개 | 할인정보 : (11:30~14:..'"
      ]
     },
     "execution_count": 42,
     "metadata": {},
     "output_type": "execute_result"
    }
   ],
   "source": [
    "li.find_all('dd')[1].get_text()"
   ]
  },
  {
   "cell_type": "code",
   "execution_count": 43,
   "metadata": {},
   "outputs": [],
   "source": [
    "tmp_str = li.find(class_='sum').get_text()\n",
    "tmp_str2 = tmp_str.split('|')"
   ]
  },
  {
   "cell_type": "code",
   "execution_count": 44,
   "metadata": {},
   "outputs": [
    {
     "data": {
      "text/plain": [
       "['대전 중구 대흥동 409-7 ', ' 042-223-5083 ', ' 추천맛집 0개 ', ' 할인정보 : (11:30~14:..']"
      ]
     },
     "execution_count": 44,
     "metadata": {},
     "output_type": "execute_result"
    }
   ],
   "source": [
    "tmp_str2"
   ]
  },
  {
   "cell_type": "code",
   "execution_count": 47,
   "metadata": {},
   "outputs": [],
   "source": [
    "main_menu = []\n",
    "rest_name = []\n",
    "add = []\n",
    "\n",
    "for rest in rest_list:\n",
    "    main_menu.append(tmp_str1[1])\n",
    "    rest_name.append(li.find_all('a')[1].get_text())\n",
    "    add.append(tmp_str2[0])"
   ]
  },
  {
   "cell_type": "code",
   "execution_count": 49,
   "metadata": {},
   "outputs": [
    {
     "data": {
      "text/plain": [
       "['올갱이국, 올갱이무침, 두부두루치기(소)',\n",
       " '올갱이국, 올갱이무침, 두부두루치기(소)',\n",
       " '올갱이국, 올갱이무침, 두부두루치기(소)',\n",
       " '올갱이국, 올갱이무침, 두부두루치기(소)',\n",
       " '올갱이국, 올갱이무침, 두부두루치기(소)']"
      ]
     },
     "execution_count": 49,
     "metadata": {},
     "output_type": "execute_result"
    }
   ],
   "source": [
    "main_menu[:5]"
   ]
  },
  {
   "cell_type": "code",
   "execution_count": null,
   "metadata": {},
   "outputs": [],
   "source": []
  },
  {
   "cell_type": "code",
   "execution_count": null,
   "metadata": {},
   "outputs": [],
   "source": []
  },
  {
   "cell_type": "code",
   "execution_count": null,
   "metadata": {},
   "outputs": [],
   "source": []
  },
  {
   "cell_type": "code",
   "execution_count": null,
   "metadata": {},
   "outputs": [],
   "source": []
  }
 ],
 "metadata": {
  "kernelspec": {
   "display_name": "Python 3",
   "language": "python",
   "name": "python3"
  },
  "language_info": {
   "codemirror_mode": {
    "name": "ipython",
    "version": 3
   },
   "file_extension": ".py",
   "mimetype": "text/x-python",
   "name": "python",
   "nbconvert_exporter": "python",
   "pygments_lexer": "ipython3",
   "version": "3.7.6"
  }
 },
 "nbformat": 4,
 "nbformat_minor": 4
}
