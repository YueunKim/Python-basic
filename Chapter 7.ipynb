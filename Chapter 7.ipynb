{
 "cells": [
  {
   "cell_type": "markdown",
   "metadata": {},
   "source": [
    "# Chapter 7. Function"
   ]
  },
  {
   "cell_type": "code",
   "execution_count": 2,
   "metadata": {},
   "outputs": [
    {
     "name": "stdout",
     "output_type": "stream",
     "text": [
      "안녕하세요!\n"
     ]
    }
   ],
   "source": [
    "# 7-1. Function definitions and calls\n",
    "\n",
    "def hello(): \n",
    "    print(\"안녕하세요!\")\n",
    "\n",
    "hello()"
   ]
  },
  {
   "cell_type": "code",
   "execution_count": 15,
   "metadata": {},
   "outputs": [
    {
     "name": "stdout",
     "output_type": "stream",
     "text": [
      "22는 짝수\n"
     ]
    }
   ],
   "source": [
    "# 7-2. One parameter\n",
    "\n",
    "def even_odd(num) :\n",
    "    if num % 2 == 0 :\n",
    "        print(\"%d는 짝수\" % num)\n",
    "    else :\n",
    "        print(\"%d는 홀수\" % num)\n",
    "    \n",
    "even_odd(22)"
   ]
  },
  {
   "cell_type": "code",
   "execution_count": 8,
   "metadata": {},
   "outputs": [
    {
     "name": "stdout",
     "output_type": "stream",
     "text": [
      "김유은님은 빨강을 매우 좋아합니다.\n"
     ]
    }
   ],
   "source": [
    "# 7-3. Multiple parameters\n",
    "\n",
    "def favorate_color(name, color, amount):\n",
    "    if (amount == 1):\n",
    "        print('%s님은 %s을 좋아하지 않습니다.'%(name, color))\n",
    "    elif (amount == 2):\n",
    "        print('%s님은 %s을 조금 좋아합니다.'%(name, color))\n",
    "    else :\n",
    "        print('%s님은 %s을 매우 좋아합니다.'%(name, color))\n",
    "        \n",
    "favorate_color('김유은','빨강',3)"
   ]
  },
  {
   "cell_type": "code",
   "execution_count": 18,
   "metadata": {},
   "outputs": [
    {
     "name": "stdout",
     "output_type": "stream",
     "text": [
      "3과목의 평균 : 92.00\n",
      "5과목의 평균 : 86.00\n"
     ]
    }
   ],
   "source": [
    "# 7-4. * Used in any parameter\n",
    "\n",
    "def average(*scores):\n",
    "    sum = 0\n",
    "    for i in range(len(scores)):\n",
    "        sum += scores[i]\n",
    "        \n",
    "    avg = sum/len(scores)\n",
    "    print('%d과목의 평균 : %.2f'%(len(scores),avg))\n",
    "    \n",
    "average(80,96,100)\n",
    "average(87,77,87,99,80)"
   ]
  },
  {
   "cell_type": "code",
   "execution_count": 20,
   "metadata": {},
   "outputs": [
    {
     "name": "stdout",
     "output_type": "stream",
     "text": [
      "반지름을 입력하세요: 10\n",
      "반지름 : 10, 원의 면적 : 314.00\n"
     ]
    }
   ],
   "source": [
    "# 7-7.\n",
    "\n",
    "def cir_area(r) :\n",
    "    area = r * r * 3.14\n",
    "    return area\n",
    "\n",
    "r = int(input(\"반지름을 입력하세요: \"))\n",
    "result = cir_area(r)\n",
    "print(\"반지름 : %d, 원의 면적 : %.2f\" % (r, result))"
   ]
  },
  {
   "cell_type": "code",
   "execution_count": 22,
   "metadata": {},
   "outputs": [
    {
     "name": "stdout",
     "output_type": "stream",
     "text": [
      "반지름을 입력하세요: 10\n",
      "반지름 : 10, 원의 면적 : 314.00, 원의 둘레 : 62.80\n"
     ]
    }
   ],
   "source": [
    "def new(r):\n",
    "    area = 3.14 * r * r\n",
    "    circum = 2 * 3.14 * r\n",
    "    return area, circum\n",
    "\n",
    "r = int(input(\"반지름을 입력하세요: \"))\n",
    "res1, res2  = new(r)\n",
    "print(\"반지름 : %d, 원의 면적 : %.2f, 원의 둘레 : %.2f\" % (r, res1, res2))"
   ]
  },
  {
   "cell_type": "markdown",
   "metadata": {},
   "source": [
    "## practice"
   ]
  },
  {
   "cell_type": "code",
   "execution_count": 32,
   "metadata": {},
   "outputs": [
    {
     "name": "stdout",
     "output_type": "stream",
     "text": [
      "이름: 김유은\n",
      "나이: 23\n",
      "주소: 서울시 용산구 이촌동\n"
     ]
    }
   ],
   "source": [
    "def personal_info(name, age, address):\n",
    "    print('이름:',name)\n",
    "    print('나이:',age)\n",
    "    print('주소:',address)\n",
    "    \n",
    "personal_info('김유은', 23, '서울시 용산구 이촌동')"
   ]
  },
  {
   "cell_type": "code",
   "execution_count": 33,
   "metadata": {},
   "outputs": [
    {
     "name": "stdout",
     "output_type": "stream",
     "text": [
      "이름: 김유은\n",
      "나이: 23\n",
      "주소: 서울시 용산구 이촌동\n"
     ]
    }
   ],
   "source": [
    "personal_info('김유은', 23, '서울시 용산구 이촌동')"
   ]
  },
  {
   "cell_type": "code",
   "execution_count": 36,
   "metadata": {},
   "outputs": [
    {
     "name": "stdout",
     "output_type": "stream",
     "text": [
      "이름: 홍길동\n",
      "나이: 30\n",
      "주소: 서울시 용산구 이촌동\n"
     ]
    }
   ],
   "source": [
    "personal_info(name='홍길동', age=30, address='서울시 용산구 이촌동')"
   ]
  },
  {
   "cell_type": "code",
   "execution_count": 34,
   "metadata": {},
   "outputs": [
    {
     "name": "stdout",
     "output_type": "stream",
     "text": [
      "이름: 홍길동\n",
      "나이: 30\n",
      "주소: 서울시 용산구 이촌동\n"
     ]
    }
   ],
   "source": [
    "x = {'name': '홍길동', 'age' : 30, 'address' : '서울시 용산구 이촌동'}\n",
    "personal_info(**x)"
   ]
  },
  {
   "cell_type": "code",
   "execution_count": 35,
   "metadata": {},
   "outputs": [
    {
     "name": "stdout",
     "output_type": "stream",
     "text": [
      "4과목의 평균 : 90.50\n"
     ]
    }
   ],
   "source": [
    "y = (97, 80, 90, 95)\n",
    "average(*y)"
   ]
  },
  {
   "cell_type": "code",
   "execution_count": 38,
   "metadata": {},
   "outputs": [
    {
     "name": "stdout",
     "output_type": "stream",
     "text": [
      "name: 홍길동\n",
      "age: 30\n",
      "address: 서울시 용산구 이촌동\n"
     ]
    }
   ],
   "source": [
    "def personal_info(**kwargs):\n",
    "     for kw, arg in kwargs.items():\n",
    "            print(kw, ': ', arg, sep='')\n",
    "\n",
    "personal_info(name='홍길동', age=30, address='서울시 용산구 이촌동')"
   ]
  },
  {
   "cell_type": "code",
   "execution_count": 42,
   "metadata": {
    "scrolled": true
   },
   "outputs": [
    {
     "name": "stdout",
     "output_type": "stream",
     "text": [
      "홍길동\n",
      "{}\n",
      "홍길동\n",
      "{'age': 30, 'address': '서울시 용산구 이촌동'}\n",
      "홍길동\n",
      "{'age': 30, 'address': '서울시 용산구 이촌동'}\n"
     ]
    }
   ],
   "source": [
    "def personal_info(name, **kwargs): # **kwargs가 고정 매개변수보다 앞에 오면 안 됨!\n",
    "     print(name)                   # 매개변수 순서에서 **kwargs는 반드시 가장 뒤쪽에 와야함\n",
    "     print(kwargs) \n",
    "\n",
    "personal_info('홍길동')\n",
    "personal_info('홍길동', age=30, address='서울시 용산구 이촌동')\n",
    "personal_info(**{'name': '홍길동', 'age': 30, 'address': '서울시 용산구 이촌동'})"
   ]
  },
  {
   "cell_type": "code",
   "execution_count": 41,
   "metadata": {},
   "outputs": [
    {
     "name": "stdout",
     "output_type": "stream",
     "text": [
      "1:2:3"
     ]
    }
   ],
   "source": [
    "def custom_print(*args, **kwargs):        # 위치형 가변인수 + 키워드형 가변인수\n",
    "     print(*args, **kwargs)\n",
    "\n",
    "custom_print(1, 2, 3, sep=':', end='')"
   ]
  },
  {
   "cell_type": "code",
   "execution_count": 44,
   "metadata": {},
   "outputs": [
    {
     "name": "stdout",
     "output_type": "stream",
     "text": [
      "10 ~ 100의 정수의 합계 : 5005\n",
      "100 ~ 200의 정수의 합계 : 15150\n",
      "2000 ~ 3000의 정수의 합계 : 2502500\n"
     ]
    }
   ],
   "source": [
    "# practice - Sum of integers\n",
    "\n",
    "def sum(start, end) :\n",
    "    total = 0\n",
    "    for i in range(start, end+1) :\n",
    "        total = total + i\n",
    "    print(\"%d ~ %d의 정수의 합계 : %d\" % (start, end, total))\n",
    "    \n",
    "sum(10, 100)\n",
    "sum(100, 200)\n",
    "sum(2000, 3000)"
   ]
  },
  {
   "cell_type": "code",
   "execution_count": 49,
   "metadata": {},
   "outputs": [
    {
     "name": "stdout",
     "output_type": "stream",
     "text": [
      "시작 수 : 10\n",
      "끝 수 : 100\n",
      "합계를 구할 배수를 입력하세요 : 5\n",
      "10 ~ 100의 정수 중 5의 배수의 합 : 1045\n"
     ]
    }
   ],
   "source": [
    "# practice - Sum of multiples\n",
    "\n",
    "def sum_multi(n1, n2, num):\n",
    "    sum = 0\n",
    "    for i in range(n1, n2 + 1):\n",
    "        if i % 5 == 0:\n",
    "            sum += i\n",
    "            \n",
    "    return sum\n",
    "\n",
    "start = int(input('시작 수 : '))\n",
    "end = int(input('끝 수 : '))\n",
    "multi = int(input('합계를 구할 배수를 입력하세요 : '))\n",
    "\n",
    "result = sum_multi(start, end, multi)\n",
    "print('%d ~ %d의 정수 중 %d의 배수의 합 : %d'%(start, end, multi, result))"
   ]
  },
  {
   "cell_type": "code",
   "execution_count": 51,
   "metadata": {},
   "outputs": [
    {
     "name": "stdout",
     "output_type": "stream",
     "text": [
      "첫번째 수를 입력하세요 : 33\n",
      "두번째 수를 입력하세요 : 44\n",
      "33와 44의 최대공약수 : 11\n"
     ]
    }
   ],
   "source": [
    "# practice - Greatest common factor\n",
    "\n",
    "def gcd(x, y):\n",
    "    if x > y :\n",
    "        small = y\n",
    "    else:\n",
    "        small = x\n",
    "        \n",
    "    for i in range(1, small + 1):\n",
    "        if x % i == 0 and y % i == 0 :\n",
    "            result = i\n",
    "    return result\n",
    "\n",
    "num1 = int(input('첫번째 수를 입력하세요 : '))\n",
    "num2 = int(input('두번째 수를 입력하세요 : '))\n",
    "max = gcd(num1, num2)\n",
    "\n",
    "print('%d와 %d의 최대공약수 : %d'%(num1, num2, max))"
   ]
  },
  {
   "cell_type": "code",
   "execution_count": 62,
   "metadata": {},
   "outputs": [
    {
     "name": "stdout",
     "output_type": "stream",
     "text": [
      "숫자를 입력하세요 : 10000\n",
      "[6, 28, 496, 8128]\n"
     ]
    }
   ],
   "source": [
    "# practice - Perfect Number (1)\n",
    "\n",
    "N = int(input(\"숫자를 입력하세요 : \")) # 숫자를 하나 입력 \n",
    "result = [] # 완전수를 저장할 빈리스트\n",
    "\n",
    "def pn(N):\n",
    "    for i in range(1, N+1): # 1부터 입력한 숫자까지\n",
    "        sum = 0\n",
    "        for k in range(1, i): # 1부터 i까지\n",
    "            if i % k == 0:  \n",
    "                sum += k # 약수들의 합을 구함\n",
    "                \n",
    "        if i == sum: # 자신을 제외한 약수들의 합이 자신과 같으면 \n",
    "                result.append(i)\n",
    "    return result\n",
    "\n",
    "print(pn(N))"
   ]
  },
  {
   "cell_type": "code",
   "execution_count": 67,
   "metadata": {},
   "outputs": [
    {
     "name": "stdout",
     "output_type": "stream",
     "text": [
      "6\n",
      "28\n",
      "496\n",
      "8128\n"
     ]
    }
   ],
   "source": [
    "# practice - perfect number (2)\n",
    "\n",
    "def sum_yaksu(n):\n",
    "    sum = 0\n",
    "    for i in range(1, n):\n",
    "        if n % i == 0:\n",
    "            sum += i\n",
    "    return sum\n",
    "\n",
    "for num in range(1,10001):\n",
    "    if num == sum_yaksu(num):\n",
    "        print(num)"
   ]
  },
  {
   "cell_type": "code",
   "execution_count": 69,
   "metadata": {},
   "outputs": [
    {
     "name": "stdout",
     "output_type": "stream",
     "text": [
      "25\n"
     ]
    }
   ],
   "source": [
    "# 7-8. Lambda function\n",
    "\n",
    "x = lambda a : a**2\n",
    "\n",
    "print(x(5))"
   ]
  },
  {
   "cell_type": "code",
   "execution_count": 70,
   "metadata": {},
   "outputs": [
    {
     "name": "stdout",
     "output_type": "stream",
     "text": [
      "60\n",
      "30\n",
      "50\n"
     ]
    }
   ],
   "source": [
    "# 7-9. lambda function practice\n",
    "\n",
    "f = lambda x, y, z : x + y + z\n",
    "print(f(10, 20, 30))\n",
    "\n",
    "def mul(n):\n",
    "    return lambda x : x * n\n",
    "\n",
    "g = mul(3)\n",
    "h = mul(5)\n",
    "\n",
    "print(g(10))\n",
    "print(h(10))"
   ]
  },
  {
   "cell_type": "code",
   "execution_count": 71,
   "metadata": {},
   "outputs": [
    {
     "name": "stdout",
     "output_type": "stream",
     "text": [
      "10\n",
      "<function <lambda> at 0x0000020270EFA5E8>\n"
     ]
    }
   ],
   "source": [
    "# 7-10. Local variable\n",
    "\n",
    "def func():\n",
    "    x = 10\n",
    "    print(x)\n",
    "    \n",
    "func()\n",
    "print(x)"
   ]
  },
  {
   "cell_type": "code",
   "execution_count": 73,
   "metadata": {},
   "outputs": [
    {
     "name": "stdout",
     "output_type": "stream",
     "text": [
      "10\n",
      "140718260593328\n",
      "10\n",
      "140718260593328\n"
     ]
    }
   ],
   "source": [
    "# 7-11. Global variable\n",
    "\n",
    "def func():\n",
    "    print(x)\n",
    "    print(id(x))\n",
    "    \n",
    "x = 10\n",
    "print(x)\n",
    "print(id(x))\n",
    "func()"
   ]
  },
  {
   "cell_type": "code",
   "execution_count": 77,
   "metadata": {},
   "outputs": [
    {
     "name": "stdout",
     "output_type": "stream",
     "text": [
      "파일 쓰기 완료!\n"
     ]
    }
   ],
   "source": [
    "# 7-14. File write\n",
    "file = open('sample.txt','w', encoding = 'utf8')\n",
    "file.write('안녕하세용 반가워용')\n",
    "file.close()\n",
    "print('파일 쓰기 완료!')                 # 작업 폴더 내에 sample.txt 파일이 생성됨"
   ]
  },
  {
   "cell_type": "code",
   "execution_count": 79,
   "metadata": {},
   "outputs": [],
   "source": [
    "file = open('sample.txt','a', encoding = 'utf8') # 기존 파일에 새로운 내용 추가 = a\n",
    "file.write('안녕하세용 반가워용')\n",
    "file.close()"
   ]
  },
  {
   "cell_type": "code",
   "execution_count": 85,
   "metadata": {},
   "outputs": [
    {
     "name": "stdout",
     "output_type": "stream",
     "text": [
      "김소영 82 80 93 97 93 88\n",
      "정예린 86 100 93 86 90 77\n",
      "이세영 91 88 99 79 92 68\n",
      "정수정 86 100 93 89 92 93\n",
      "박지수 80 100 95 89 90 84\n",
      "\n"
     ]
    }
   ],
   "source": [
    "# 7-15.\n",
    "\n",
    "scores = ['김소영 82 80 93 97 93 88',\n",
    "'정예린 86 100 93 86 90 77',\n",
    "'이세영 91 88 99 79 92 68',\n",
    "'정수정 86 100 93 89 92 93',\n",
    "'박지수 80 100 95 89 90 84']\n",
    "\n",
    "data = ''\n",
    "for item in scores :\n",
    "    data += item + '\\n'\n",
    "\n",
    "print(data)\n",
    "\n",
    "file = open('scores.txt', 'w', encoding='utf8' )\n",
    "file.write(data)\n",
    "file.close()"
   ]
  },
  {
   "cell_type": "code",
   "execution_count": 86,
   "metadata": {},
   "outputs": [
    {
     "name": "stdout",
     "output_type": "stream",
     "text": [
      "scores.txt 파일의 내용 : \n",
      "김소영 82 80 93 97 93 88\n",
      "정예린 86 100 93 86 90 77\n",
      "이세영 91 88 99 79 92 68\n",
      "정수정 86 100 93 89 92 93\n",
      "박지수 80 100 95 89 90 84\n"
     ]
    }
   ],
   "source": [
    "file = open('scores.txt', 'r', encoding='utf8')\n",
    "lines = file.readlines()\n",
    "print('scores.txt 파일의 내용 : ')\n",
    "\n",
    "for line in lines :\n",
    "    print(line, end='')\n",
    "file.close()"
   ]
  }
 ],
 "metadata": {
  "kernelspec": {
   "display_name": "Python 3",
   "language": "python",
   "name": "python3"
  },
  "language_info": {
   "codemirror_mode": {
    "name": "ipython",
    "version": 3
   },
   "file_extension": ".py",
   "mimetype": "text/x-python",
   "name": "python",
   "nbconvert_exporter": "python",
   "pygments_lexer": "ipython3",
   "version": "3.7.6"
  }
 },
 "nbformat": 4,
 "nbformat_minor": 4
}
